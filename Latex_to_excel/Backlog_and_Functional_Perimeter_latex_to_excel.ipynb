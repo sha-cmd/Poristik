{
 "cells": [
  {
   "cell_type": "markdown",
   "id": "a69707b8",
   "metadata": {},
   "source": [
    "# Latex to Excel\n",
    "Ce notebook permet de réaliser la conversion des tableaux depuis le code latex jusqu’à un format excel"
   ]
  },
  {
   "cell_type": "code",
   "execution_count": 1,
   "id": "1756f5a8",
   "metadata": {},
   "outputs": [],
   "source": [
    "import pandas as pd\n",
    "from openpyxl import load_workbook\n",
    "from openpyxl.styles import PatternFill, Font\n"
   ]
  },
  {
   "cell_type": "code",
   "execution_count": 2,
   "id": "a7e22b42",
   "metadata": {},
   "outputs": [],
   "source": [
    "# Perimetre fonctionnel"
   ]
  },
  {
   "cell_type": "markdown",
   "id": "1891b8b7",
   "metadata": {},
   "source": [
    "Nous extrayons manuellement le tableau du fichier latex."
   ]
  },
  {
   "cell_type": "code",
   "execution_count": 3,
   "id": "d7960f54",
   "metadata": {},
   "outputs": [],
   "source": [
    "data = \"\"\"\n",
    "\\hline  Titre\t\\cellcolor{gray!50}&En tant que \\cellcolor{gray!50}& Je veux\\dots\\cellcolor{gray!50}&  \\dots afin de\\dots\\cellcolor{gray!50}& \\bf Pondération\\cellcolor{gray!50} & \\bf Données nécessaires\\cellcolor{gray!50} \\\\\n",
    "\\hline  Connexion via une adresse mail& \n",
    "Utilisateur de l'application &\n",
    "  pouvoir me connecter à mon compte sur l'application mobile en utilisant une adresse mail& je peux voir les informations me concernant (infos personnelles, photos prises, articles suggérés, ...)& \n",
    "  A définir en relatif par rapport aux autres user stories en donnant un chiffre parmi : 1, 3, 5, 8, 13, 20, 50, 100.&\n",
    "{•} adresse mail utilisateur\n",
    "\n",
    "{•}  mot de passe \n",
    "\\\\\n",
    "\\hline   Conserver le mot de passe haché \\cellcolor{gray!15} & Administrateur de Base de données \\cellcolor{gray!15}& Ne pas conserver le mot de passe en clair \\cellcolor{gray!15}& \n",
    "Réduire le risque de vol d’identité en cas de piratage  \\cellcolor{gray!15}& \n",
    "L’utilisation d’un salage et d’une graine lors du hachage augmente la sécurité \\cellcolor{gray!15}& mot de passe, sel, graine\\cellcolor{gray!15}\\\\\n",
    "\\hline   Flouter les visages des utilisateurs & Data Scientist / Utilisateur de l’application & Ne pas conserver l’image pouvant servir à la reconnaissance faciale & Ne pas utiliser cette données, car inutile pour le traitement & Les données d’entraînement peuvent être transformer identiquement & Récolte d’éléments vestimentaires avec visage flouté\\\\\n",
    "\\hline   Création de recommandation d’achat à partir des cliques \\cellcolor{gray!15}& UXDesigner / Utilisateur de l’application \\cellcolor{gray!15}& Conserver des historiques de navigations pour faire du neuroprofilage  \\cellcolor{gray!15}& Proposer les articles susceptibles de l’intéresser sur la base de son historique de navigation.  \\cellcolor{gray!15}& Le client a un droit de sélectionner ce qu’il veut que la plateforme conserve comme données d’historique de navigation \\cellcolor{gray!15}& L’historique de navigation, relié au pseudo du client. \\cellcolor{gray!15}\\\\\n",
    "\\hline   Création d’un panier d’achat & UXDesigner / Utilisateur de l’application & Conserver une liste d’achats souhaités n & Valider son panier après la phase shopping, au moment du passage en caisse & Ce sont des données peu sensible, modifiable à tout moment par l’utilisateur, mais conserver de manière illimité, comme un service pour l’utilisateur. & Sélection d’article lié au pseudo de l’utilisateur \\\\\n",
    "\\hline   Création d’une liste d’envie \\cellcolor{gray!15}& UXDesigner / Utilisateur de l’application \\cellcolor{gray!15}& Conserver une liste d’envie \\cellcolor{gray!15}& Garder des idées d’achats pour une occasion à horizon plus lointaine \\cellcolor{gray!15}& Ce sont des données peu sensible, modifiable à tout moment par l’utilisateur, mais conserver de manière illimité, comme un service pour l’utilisateur. \\cellcolor{gray!15}& Sélection d’article lié au pseudo de l’utilisateur \\cellcolor{gray!15}\\\\\n",
    "\\hline   Système de notation des prédictions & Data Scientist / Utilisateur de l’application & L’utilisateur donne une note ou un like/dislike ou un swipe sur les vêtements proposés & Améliorer les prédictions en connaissant mieux les goûts des utilisateurs (Matrice Users/Items) & Durée de stockage définie par l’utilisateur sur 0, 1, 2 ou 3 ans. & Pseudo utilisateur, Articles, Notes \\\\\n",
    "\\hline   Système d’association de produit \\cellcolor{gray!15}& Data Scientist / Utilisateur de l’application \\cellcolor{gray!15}& L’utilisateur reçoit des recommandations d’articles similaire à ceux qui sont prédits \\cellcolor{gray!15}& Augmenter le nombre d’articles similaire (Matrice Items/Items) \\cellcolor{gray!15}& La base de données des articles en vente doit pouvoir être catégorisé en hiérarchie de produit. \\cellcolor{gray!15}& Les informations sur les produits, photos, descriptifs. \\cellcolor{gray!15}\\\\\n",
    "\\hline   Création d’une interface & Web Design / Utilisateur de l’application & Une interface intuitive avec une charte graphique de la marque & Offrir une bonne expérience utilisateur & Les cookies doivent être autorisées par l’utilisateur & Cookies, IP, Browser fingerprints, stockés maximum 1 an si l’utilisateur autorise les CGU. \\\\\n",
    "\\hline   Détection d’une connexion depuis un nouvel appareil \\cellcolor{gray!15}& Security / Utilisateur de l’application \\cellcolor{gray!15}& Sécuriser l’application pour l’utilisateur\\cellcolor{gray!15} & Éviter / Alerter en cas de piratage \\cellcolor{gray!15}& Les données ne concerne pas l’identité de la personne directement mais les supports numériques utilisés pour se connecter. \\cellcolor{gray!15}& Les données conservés sont l’adresse Mac de la machine, le nom du système OS, le type de navigateur web. \\cellcolor{gray!15}\\\\\n",
    "\"\"\""
   ]
  },
  {
   "cell_type": "markdown",
   "id": "b966f03d",
   "metadata": {},
   "source": [
    "Nous remplaçons quelques éléments de formatage."
   ]
  },
  {
   "cell_type": "code",
   "execution_count": 4,
   "id": "f6a587f3",
   "metadata": {},
   "outputs": [],
   "source": [
    "d = data.replace('\\\\cellcolor{gray!50}', '')\\\n",
    ".replace('\\\\cellcolor{gray!15}', '')\\\n",
    ".replace('\\\\cellcolor{gray!25}', '')\\\n",
    ".replace('\\bf', ' ')\\\n",
    ".replace('\\\\dots', '...')\\\n",
    ".replace('\\\\hline', '').replace('\\n',' ')\\\n",
    ".replace('\\t', ' ').replace('\\\\', ' \\n ').replace('&', ' \\t ')\n"
   ]
  },
  {
   "cell_type": "code",
   "execution_count": 5,
   "id": "8f67ca7d",
   "metadata": {},
   "outputs": [
    {
     "data": {
      "text/plain": [
       "\"   Titre  \\t En tant que  \\t  Je veux... \\t   ... afin de... \\t    Pondération  \\t    Données nécessaires  \\n    Connexion via une adresse mail \\t   Utilisateur de l'application  \\t    pouvoir me connecter à mon compte sur l'application mobile en utilisant une adresse mail \\t  je peux voir les informations me concernant (infos personnelles, photos prises, articles suggérés, ...) \\t     A définir en relatif par rapport aux autres user stories en donnant un chiffre parmi : 1, 3, 5, 8, 13, 20, 50, 100. \\t  {•} adresse mail utilisateur  {•}  mot de passe   \\n     Conserver le mot de passe haché   \\t  Administrateur de Base de données  \\t  Ne pas conserver le mot de passe en clair  \\t   Réduire le risque de vol d’identité en cas de piratage   \\t   L’utilisation d’un salage et d’une graine lors du hachage augmente la sécurité  \\t  mot de passe, sel, graine \\n     Flouter les visages des utilisateurs  \\t  Data Scientist / Utilisateur de l’application  \\t  Ne pas conserver l’image pouvant servir à la reconnaissance faciale  \\t  Ne pas utiliser cette données, car inutile pour le traitement  \\t  Les données d’entraînement peuvent être transformer identiquement  \\t  Récolte d’éléments vestimentaires avec visage flouté \\n     Création de recommandation d’achat à partir des cliques  \\t  UXDesigner / Utilisateur de l’application  \\t  Conserver des historiques de navigations pour faire du neuroprofilage   \\t  Proposer les articles susceptibles de l’intéresser sur la base de son historique de navigation.   \\t  Le client a un droit de sélectionner ce qu’il veut que la plateforme conserve comme données d’historique de navigation  \\t  L’historique de navigation, relié au pseudo du client.  \\n     Création d’un panier d’achat  \\t  UXDesigner / Utilisateur de l’application  \\t  Conserver une liste d’achats souhaités n  \\t  Valider son panier après la phase shopping, au moment du passage en caisse  \\t  Ce sont des données peu sensible, modifiable à tout moment par l’utilisateur, mais conserver de manière illimité, comme un service pour l’utilisateur.  \\t  Sélection d’article lié au pseudo de l’utilisateur  \\n     Création d’une liste d’envie  \\t  UXDesigner / Utilisateur de l’application  \\t  Conserver une liste d’envie  \\t  Garder des idées d’achats pour une occasion à horizon plus lointaine  \\t  Ce sont des données peu sensible, modifiable à tout moment par l’utilisateur, mais conserver de manière illimité, comme un service pour l’utilisateur.  \\t  Sélection d’article lié au pseudo de l’utilisateur  \\n     Système de notation des prédictions  \\t  Data Scientist / Utilisateur de l’application  \\t  L’utilisateur donne une note ou un like/dislike ou un swipe sur les vêtements proposés  \\t  Améliorer les prédictions en connaissant mieux les goûts des utilisateurs (Matrice Users/Items)  \\t  Durée de stockage définie par l’utilisateur sur 0, 1, 2 ou 3 ans.  \\t  Pseudo utilisateur, Articles, Notes  \\n     Système d’association de produit  \\t  Data Scientist / Utilisateur de l’application  \\t  L’utilisateur reçoit des recommandations d’articles similaire à ceux qui sont prédits  \\t  Augmenter le nombre d’articles similaire (Matrice Items/Items)  \\t  La base de données des articles en vente doit pouvoir être catégorisé en hiérarchie de produit.  \\t  Les informations sur les produits, photos, descriptifs.  \\n     Création d’une interface  \\t  Web Design / Utilisateur de l’application  \\t  Une interface intuitive avec une charte graphique de la marque  \\t  Offrir une bonne expérience utilisateur  \\t  Les cookies doivent être autorisées par l’utilisateur  \\t  Cookies, IP, Browser fingerprints, stockés maximum 1 an si l’utilisateur autorise les CGU.  \\n     Détection d’une connexion depuis un nouvel appareil  \\t  Security / Utilisateur de l’application  \\t  Sécuriser l’application pour l’utilisateur  \\t  Éviter / Alerter en cas de piratage  \\t  Les données ne concerne pas l’identité de la personne directement mais les supports numériques utilisés pour se connecter.  \\t  Les données conservés sont l’adresse Mac de la machine, le nom du système OS, le type de navigateur web.  \\n  \""
      ]
     },
     "execution_count": 5,
     "metadata": {},
     "output_type": "execute_result"
    }
   ],
   "source": [
    "d.encode('utf-8').decode()"
   ]
  },
  {
   "cell_type": "code",
   "execution_count": 6,
   "id": "a33073a5",
   "metadata": {},
   "outputs": [],
   "source": [
    "with open('per_funct.csv', 'w') as f:\n",
    "    f.writelines(d.encode('utf-8').decode())"
   ]
  },
  {
   "cell_type": "markdown",
   "id": "f15c645a",
   "metadata": {},
   "source": [
    "Nous enregistrons le texte sous forme de tableur excel 2010 \"xlsx\", afin de pouvoir utiliser la bibliothèque openpyxl."
   ]
  },
  {
   "cell_type": "code",
   "execution_count": 7,
   "id": "fa070b43",
   "metadata": {},
   "outputs": [],
   "source": [
    "pd.read_csv('per_funct.csv', sep='\\t').to_excel('per_funct.xlsx')"
   ]
  },
  {
   "cell_type": "code",
   "execution_count": 8,
   "id": "48637b71",
   "metadata": {},
   "outputs": [
    {
     "name": "stdout",
     "output_type": "stream",
     "text": [
      "       A1 \n"
     ]
    }
   ],
   "source": [
    "wb = load_workbook(filename = 'perf_fonct.xlsx')\n",
    "sheet_ranges = wb['Sheet1']\n",
    "print(sheet_ranges['B3'].value)"
   ]
  },
  {
   "cell_type": "markdown",
   "id": "3219a18b",
   "metadata": {},
   "source": [
    "Nous créons les couleurs de fond que nous utiliserons dans le fichier"
   ]
  },
  {
   "cell_type": "code",
   "execution_count": 9,
   "id": "1054b4f5",
   "metadata": {},
   "outputs": [],
   "source": [
    "grayLightFill = PatternFill(start_color='d0d0d0',\n",
    "                   end_color='d0d0d0',\n",
    "                   fill_type='solid')\n",
    "grayDarkFill = PatternFill(start_color='a7a7a7',\n",
    "                   end_color='a7a7a7',\n",
    "                   fill_type='solid')\n",
    "blackFill = PatternFill(start_color='404040',\n",
    "                   end_color='404040',\n",
    "                   fill_type='solid')"
   ]
  },
  {
   "cell_type": "markdown",
   "id": "5d417b70",
   "metadata": {},
   "source": [
    "Nous appliquons le formatage."
   ]
  },
  {
   "cell_type": "code",
   "execution_count": 10,
   "id": "79ff407a",
   "metadata": {},
   "outputs": [],
   "source": [
    "for cell in sheet_ranges['B1:J1']:\n",
    "    for x in range(len(cell)):\n",
    "        cell[x].fill = blackFill\n",
    "        cell[x].font = Font(color=\"FFFFFF\", bold=True) \n",
    "n = 2\n",
    "for cell1 in sheet_ranges['B2:B40']:\n",
    "    text = str(cell1[0].value).rstrip().lstrip()\n",
    "    if text.isalpha():\n",
    "        for cell in sheet_ranges['B' + str(n) + ':J' + str(n)]:\n",
    "            for x in range(len(cell)):\n",
    "                cell[x].fill = grayDarkFill\n",
    "    else:\n",
    "        for cell in sheet_ranges['B' + str(n) + ':J' + str(n)]:\n",
    "            for x in range(len(cell)):\n",
    "                cell[x].fill = grayLightFill\n",
    "    n += 1\n"
   ]
  },
  {
   "cell_type": "code",
   "execution_count": 11,
   "id": "96234477",
   "metadata": {},
   "outputs": [],
   "source": [
    "# Code pour détruire la colonne d’index supplémentaire issue du cadre de données.\n",
    "sheet_ranges.delete_cols(1, 1)\n",
    "sheet_ranges.title = \"Perimetre_functionnel\""
   ]
  },
  {
   "cell_type": "code",
   "execution_count": 12,
   "id": "21458aa2",
   "metadata": {},
   "outputs": [],
   "source": [
    "wb.save(filename = 'dest_functional_perimeter.xlsx')"
   ]
  },
  {
   "cell_type": "markdown",
   "id": "cbd7ad17",
   "metadata": {},
   "source": [
    "# Color Format for BackLog\n",
    "Nous répétons l’opération pour le tableau suivant."
   ]
  },
  {
   "cell_type": "code",
   "execution_count": 13,
   "id": "04afa2d6",
   "metadata": {},
   "outputs": [],
   "source": [
    "data = \"\"\"\n",
    "\\hline  Titre\t\\cellcolor{gray!50}&En tant que \\cellcolor{gray!50}& Je veux\\dots\\cellcolor{gray!50}&  \\dots afin de\\dots\\cellcolor{gray!50}& \\bf Pondération\\cellcolor{gray!50} & \\bf Données nécessaires\\cellcolor{gray!50} \\\\\n",
    "\\hline  Connexion via une adresse mail& \n",
    "Utilisateur de l'application &\n",
    "  pouvoir me connecter à mon compte sur l'application mobile en utilisant une adresse mail& je peux voir les informations me concernant (infos personnelles, photos prises, articles suggérés, ...)& \n",
    "  A définir en relatif par rapport aux autres user stories en donnant un chiffre parmi : 1, 3, 5, 8, 13, 20, 50, 100.&\n",
    "{•} adresse mail utilisateur\n",
    "\n",
    "{•}  mot de passe \n",
    "\\\\\n",
    "\\hline   Conserver le mot de passe haché \\cellcolor{gray!15} & Administrateur de Base de données \\cellcolor{gray!15}& Ne pas conserver le mot de passe en clair \\cellcolor{gray!15}& \n",
    "Réduire le risque de vol d’identité en cas de piratage  \\cellcolor{gray!15}& \n",
    "L’utilisation d’un salage et d’une graine lors du hachage augmente la sécurité \\cellcolor{gray!15}& mot de passe, sel, graine\\cellcolor{gray!15}\\\\\n",
    "\\hline   Flouter les visages des utilisateurs & Data Scientist / Utilisateur de l’application & Ne pas conserver l’image pouvant servir à la reconnaissance faciale & Ne pas utiliser cette données, car inutile pour le traitement & Les données d’entraînement peuvent être transformer identiquement & Récolte d’éléments vestimentaires avec visage flouté\\\\\n",
    "\\hline   Création de recommandation d’achat à partir des cliques \\cellcolor{gray!15}& UXDesigner / Utilisateur de l’application \\cellcolor{gray!15}& Conserver des historiques de navigations pour faire du neuroprofilage  \\cellcolor{gray!15}& Proposer les articles susceptibles de l’intéresser sur la base de son historique de navigation.  \\cellcolor{gray!15}& Le client a un droit de sélectionner ce qu’il veut que la plateforme conserve comme données d’historique de navigation \\cellcolor{gray!15}& L’historique de navigation, relié au pseudo du client. \\cellcolor{gray!15}\\\\\n",
    "\\hline   Création d’un panier d’achat & UXDesigner / Utilisateur de l’application & Conserver une liste d’achats souhaités n & Valider son panier après la phase shopping, au moment du passage en caisse & Ce sont des données peu sensible, modifiable à tout moment par l’utilisateur, mais conserver de manière illimité, comme un service pour l’utilisateur. & Sélection d’article lié au pseudo de l’utilisateur \\\\\n",
    "\\hline   Création d’une liste d’envie \\cellcolor{gray!15}& UXDesigner / Utilisateur de l’application \\cellcolor{gray!15}& Conserver une liste d’envie \\cellcolor{gray!15}& Garder des idées d’achats pour une occasion à horizon plus lointaine \\cellcolor{gray!15}& Ce sont des données peu sensible, modifiable à tout moment par l’utilisateur, mais conserver de manière illimité, comme un service pour l’utilisateur. \\cellcolor{gray!15}& Sélection d’article lié au pseudo de l’utilisateur \\cellcolor{gray!15}\\\\\n",
    "\\hline   Système de notation des prédictions & Data Scientist / Utilisateur de l’application & L’utilisateur donne une note ou un like/dislike ou un swipe sur les vêtements proposés & Améliorer les prédictions en connaissant mieux les goûts des utilisateurs (Matrice Users/Items) & Durée de stockage définie par l’utilisateur sur 0, 1, 2 ou 3 ans. & Pseudo utilisateur, Articles, Notes \\\\\n",
    "\\hline   Système d’association de produit \\cellcolor{gray!15}& Data Scientist / Utilisateur de l’application \\cellcolor{gray!15}& L’utilisateur reçoit des recommandations d’articles similaire à ceux qui sont prédits \\cellcolor{gray!15}& Augmenter le nombre d’articles similaire (Matrice Items/Items) \\cellcolor{gray!15}& La base de données des articles en vente doit pouvoir être catégorisé en hiérarchie de produit. \\cellcolor{gray!15}& Les informations sur les produits, photos, descriptifs. \\cellcolor{gray!15}\\\\\n",
    "\\hline   Création d’une interface & Web Design / Utilisateur de l’application & Une interface intuitive avec une charte graphique de la marque & Offrir une bonne expérience utilisateur & Les cookies doivent être autorisées par l’utilisateur & Cookies, IP, Browser fingerprints, stockés maximum 1 an si l’utilisateur autorise les CGU. \\\\\n",
    "\\hline   Détection d’une connexion depuis un nouvel appareil \\cellcolor{gray!15}& Security / Utilisateur de l’application \\cellcolor{gray!15}& Sécuriser l’application pour l’utilisateur\\cellcolor{gray!15} & Éviter / Alerter en cas de piratage \\cellcolor{gray!15}& Les données ne concerne pas l’identité de la personne directement mais les supports numériques utilisés pour se connecter. \\cellcolor{gray!15}& Les données conservés sont l’adresse Mac de la machine, le nom du système OS, le type de navigateur web. \\cellcolor{gray!15}\\\\\n",
    "\"\"\""
   ]
  },
  {
   "cell_type": "code",
   "execution_count": 14,
   "id": "25204b67",
   "metadata": {},
   "outputs": [],
   "source": [
    "d = data.replace('\\\\cellcolor{gray!50}', '')\\\n",
    ".replace('\\\\cellcolor{gray!15}', '')\\\n",
    ".replace('\\\\cellcolor{gray!25}', '')\\\n",
    ".replace('\\bf', ' ')\\\n",
    ".replace('\\\\dots', '...')\\\n",
    ".replace('\\\\hline', '').replace('\\n',' ')\\\n",
    ".replace('\\t', ' ').replace('\\\\', ' \\n ').replace('&', ' \\t ')\n"
   ]
  },
  {
   "cell_type": "code",
   "execution_count": 15,
   "id": "e7c65136",
   "metadata": {},
   "outputs": [
    {
     "data": {
      "text/plain": [
       "\"   Titre  \\t En tant que  \\t  Je veux... \\t   ... afin de... \\t    Pondération  \\t    Données nécessaires  \\n    Connexion via une adresse mail \\t   Utilisateur de l'application  \\t    pouvoir me connecter à mon compte sur l'application mobile en utilisant une adresse mail \\t  je peux voir les informations me concernant (infos personnelles, photos prises, articles suggérés, ...) \\t     A définir en relatif par rapport aux autres user stories en donnant un chiffre parmi : 1, 3, 5, 8, 13, 20, 50, 100. \\t  {•} adresse mail utilisateur  {•}  mot de passe   \\n     Conserver le mot de passe haché   \\t  Administrateur de Base de données  \\t  Ne pas conserver le mot de passe en clair  \\t   Réduire le risque de vol d’identité en cas de piratage   \\t   L’utilisation d’un salage et d’une graine lors du hachage augmente la sécurité  \\t  mot de passe, sel, graine \\n     Flouter les visages des utilisateurs  \\t  Data Scientist / Utilisateur de l’application  \\t  Ne pas conserver l’image pouvant servir à la reconnaissance faciale  \\t  Ne pas utiliser cette données, car inutile pour le traitement  \\t  Les données d’entraînement peuvent être transformer identiquement  \\t  Récolte d’éléments vestimentaires avec visage flouté \\n     Création de recommandation d’achat à partir des cliques  \\t  UXDesigner / Utilisateur de l’application  \\t  Conserver des historiques de navigations pour faire du neuroprofilage   \\t  Proposer les articles susceptibles de l’intéresser sur la base de son historique de navigation.   \\t  Le client a un droit de sélectionner ce qu’il veut que la plateforme conserve comme données d’historique de navigation  \\t  L’historique de navigation, relié au pseudo du client.  \\n     Création d’un panier d’achat  \\t  UXDesigner / Utilisateur de l’application  \\t  Conserver une liste d’achats souhaités n  \\t  Valider son panier après la phase shopping, au moment du passage en caisse  \\t  Ce sont des données peu sensible, modifiable à tout moment par l’utilisateur, mais conserver de manière illimité, comme un service pour l’utilisateur.  \\t  Sélection d’article lié au pseudo de l’utilisateur  \\n     Création d’une liste d’envie  \\t  UXDesigner / Utilisateur de l’application  \\t  Conserver une liste d’envie  \\t  Garder des idées d’achats pour une occasion à horizon plus lointaine  \\t  Ce sont des données peu sensible, modifiable à tout moment par l’utilisateur, mais conserver de manière illimité, comme un service pour l’utilisateur.  \\t  Sélection d’article lié au pseudo de l’utilisateur  \\n     Système de notation des prédictions  \\t  Data Scientist / Utilisateur de l’application  \\t  L’utilisateur donne une note ou un like/dislike ou un swipe sur les vêtements proposés  \\t  Améliorer les prédictions en connaissant mieux les goûts des utilisateurs (Matrice Users/Items)  \\t  Durée de stockage définie par l’utilisateur sur 0, 1, 2 ou 3 ans.  \\t  Pseudo utilisateur, Articles, Notes  \\n     Système d’association de produit  \\t  Data Scientist / Utilisateur de l’application  \\t  L’utilisateur reçoit des recommandations d’articles similaire à ceux qui sont prédits  \\t  Augmenter le nombre d’articles similaire (Matrice Items/Items)  \\t  La base de données des articles en vente doit pouvoir être catégorisé en hiérarchie de produit.  \\t  Les informations sur les produits, photos, descriptifs.  \\n     Création d’une interface  \\t  Web Design / Utilisateur de l’application  \\t  Une interface intuitive avec une charte graphique de la marque  \\t  Offrir une bonne expérience utilisateur  \\t  Les cookies doivent être autorisées par l’utilisateur  \\t  Cookies, IP, Browser fingerprints, stockés maximum 1 an si l’utilisateur autorise les CGU.  \\n     Détection d’une connexion depuis un nouvel appareil  \\t  Security / Utilisateur de l’application  \\t  Sécuriser l’application pour l’utilisateur  \\t  Éviter / Alerter en cas de piratage  \\t  Les données ne concerne pas l’identité de la personne directement mais les supports numériques utilisés pour se connecter.  \\t  Les données conservés sont l’adresse Mac de la machine, le nom du système OS, le type de navigateur web.  \\n  \""
      ]
     },
     "execution_count": 15,
     "metadata": {},
     "output_type": "execute_result"
    }
   ],
   "source": [
    "d.encode('utf-8').decode()"
   ]
  },
  {
   "cell_type": "code",
   "execution_count": 16,
   "id": "f28501e5",
   "metadata": {},
   "outputs": [],
   "source": [
    "with open('backlog.csv', 'w') as f:\n",
    "    f.writelines(d.encode('utf-8').decode())"
   ]
  },
  {
   "cell_type": "code",
   "execution_count": null,
   "id": "dba8494e",
   "metadata": {},
   "outputs": [],
   "source": []
  },
  {
   "cell_type": "code",
   "execution_count": 17,
   "id": "e476b977",
   "metadata": {},
   "outputs": [],
   "source": [
    "pd.read_csv('backlog.csv', sep='\\t').to_excel('backlog.xlsx')"
   ]
  },
  {
   "cell_type": "code",
   "execution_count": 18,
   "id": "86e3f852",
   "metadata": {},
   "outputs": [
    {
     "name": "stdout",
     "output_type": "stream",
     "text": [
      "     Conserver le mot de passe haché   \n"
     ]
    }
   ],
   "source": [
    "from openpyxl import load_workbook\n",
    "wb_backlog = load_workbook(filename = 'backlog.xlsx')\n",
    "ws_backlog = wb_backlog['Sheet1']\n",
    "print(ws_backlog['B3'].value)"
   ]
  },
  {
   "cell_type": "code",
   "execution_count": 19,
   "id": "8b9620cf",
   "metadata": {},
   "outputs": [],
   "source": [
    "ws_backlog.delete_cols(1, 1)"
   ]
  },
  {
   "cell_type": "code",
   "execution_count": 20,
   "id": "1c12dafb",
   "metadata": {},
   "outputs": [],
   "source": [
    "for cell in ws_backlog['A1:F1']:\n",
    "    for x in range(len(cell)):\n",
    "        cell[x].fill = blackFill\n",
    "        cell[x].font = Font(color=\"FFFFFF\", bold=True) \n",
    "n = 2\n",
    "for cell1 in ws_backlog['A2:A11']:\n",
    "    text = str(cell1[0].value).rstrip().lstrip()\n",
    "    if n % 2 != 0:\n",
    "        for cell in ws_backlog['A' + str(n) + ':F' + str(n)]:\n",
    "            for x in range(len(cell)):\n",
    "                cell[x].fill = grayLightFill\n",
    "    n += 1"
   ]
  },
  {
   "cell_type": "code",
   "execution_count": 21,
   "id": "f21375b6",
   "metadata": {},
   "outputs": [],
   "source": [
    "ws_backlog.title = \"Backlog\"\n",
    "\n",
    "wb_backlog.save(filename = 'dest_backlog.xlsx')"
   ]
  },
  {
   "cell_type": "code",
   "execution_count": 22,
   "id": "99f1650b",
   "metadata": {},
   "outputs": [],
   "source": [
    "xl1 = load_workbook('dest_functional_perimeter.xlsx')\n",
    "# sheet you want to copy\n",
    "s = load_workbook('dest_backlog.xlsx').active\n",
    "s._parent = xl1\n",
    "xl1._add_sheet(s)\n",
    "xl1.save('backlog_and_functional_perimeter.xlsx')"
   ]
  },
  {
   "cell_type": "code",
   "execution_count": null,
   "id": "63dcb287",
   "metadata": {},
   "outputs": [],
   "source": []
  },
  {
   "cell_type": "code",
   "execution_count": null,
   "id": "12ac1232",
   "metadata": {},
   "outputs": [],
   "source": []
  },
  {
   "cell_type": "markdown",
   "id": "83a7c58a",
   "metadata": {},
   "source": [
    "# Color Format for Plan d’action contre les risques\n",
    "Nous répétons l’opération pour le tableau suivant."
   ]
  },
  {
   "cell_type": "code",
   "execution_count": 48,
   "id": "3f9a3209",
   "metadata": {},
   "outputs": [],
   "source": [
    "data = \"\"\"\n",
    "\\hline \n",
    " \\bf Resp.  & \\bf Accident & \\bf Probables Causes & \\parbox{1.5cm}{\\bf Initial Risk Probabilité} & \\bf Sévérité & \\bf Risk Level & \\bf Actions Preventives& \\bf Reparations & \\parbox{1.5cm}{\\bf Residual Risk Probabilité} &\\bf Sévérité & \\bf Risk Level \\\\\n",
    "\\hline\n",
    " Codeur  & Usurpation d’identité & Stockage en clair du password& 3 & 4 & \\cellcolor{red!50} 12 & Fonction de dérivation, graine et salage du mot de passage & Alerte client pour toute nouvelle connexion IP & 1 & 2 & \\cellcolor{green!50} 2 \\\\ \n",
    "  Codeur  & Injection & Données hostiles & 4 & 4 & \\cellcolor{red!75} 16 & Échappement des chars spéciaux, utilisation de LIMIT en SQL & Stocker données nécessaires, seulement & 3 & 4 & \\cellcolor{yellow!50} 12 \\\\ \n",
    "  Codeur  & Déni de service & Fichier accessible par tous via lien & 5 & 2 & \\cellcolor{yellow!50} 10 &  Tester la performance E/S & Réarchitecturer, optimiser, mettre en cache & 4 & 2 & \\cellcolor{yellow!50} 8 \\\\ \n",
    "Data Scientist & Intégrité des données & Data sérialisées non sécurisées & 3 & 4 & \\cellcolor{red!50} 12 &  Chiffrer et signer les data échangées & Ségrégation du pipeline, contrôler l’accès au code & 2 & 3 & \\cellcolor{yellow!50} 6 \\\\ \n",
    "Dev/Ops & Security Misconfiguration & Un composant est obsolète ou vulnérable & 3 & 3.5 & \\cellcolor{red!50} 10.5 & Ne pas installer des fonctionnalités inutilisées & Utiliser la conteneurisation, une architecture segmentée sûre & 3 & 2 & \\cellcolor{yellow!50} 6 \\\\ \n",
    "Codeur & Composant Vulnérable & Pas de veille sur failles de sécurité & 2 & 3,5 & \\cellcolor{yellow!50} 7 & Supprimer les dépendances inutiles & Mettre en dépôt une version risquée, lue et reconnue & 1 & 3.5 & \\cellcolor{green!50} 3.5 \\\\ \n",
    "Codeur & Erreur Gestion Mémoire & Mauvaise utilisation mémoire & 5 & 3 & \\cellcolor{red!50} 15 & Typer les variables, design pattern & Envisager le codage en Go ou Rust & 1 & 3 & \\cellcolor{green!50} 3 \\\\ \n",
    "Codeur & Authentification & Autoriser les comptes par défaut & 3.6 & 5 & \\cellcolor{red!75} 18 & Livrer, déployer sans compte par défaut & Intégrer des tests de password à la création, au changement & 3 & 3 & \\cellcolor{yellow!50} 9 \\\\ \n",
    "Dev/Ops & Vol de données bancaires & Mémorisation du numéro de CB & 2 & 8 & \\cellcolor{red!75} 16 & Utiliser une tokenisation de norme sûre comme PCI DSS & Classifier, identifier ou rejeter les données sensibles & 2 & 4 & \\cellcolor{yellow!50} 8 \\\\ \n",
    "Data Scientist & SR connaissant peu les clients & Connaissance des clients faible & 5 & 3 & \\cellcolor{red!75} 15 & Utiliser la reconnaissance d’image pour les recommandations & Enregistrer les interactions des clients avec les articles & 2 & 2 & \\cellcolor{green!50} 4 \\\\ \n",
    "Data Scientist & Données articles mal labellisées & Petit nombre de bonnes images & 3 & 3 & \\cellcolor{yellow!75} 9 & Utiliser une technique de data augmentation & Regrouper des centaines d’images par catégories & 2 & 2 & \\cellcolor{green!50} 4 \\\\ \n",
    "Data Scientist & RGPD trop contraignant & Les photos doivent être anonymisés & 3 & 3 & \\cellcolor{yellow!75} 6 & Effacer les métadonnées des photos & Flouter les visages & 2 & 1 & \\cellcolor{green!50} 2 \\\\ \n",
    "\"\"\""
   ]
  },
  {
   "cell_type": "code",
   "execution_count": 63,
   "id": "cef7d60d",
   "metadata": {},
   "outputs": [],
   "source": [
    "d = data.replace('\\\\cellcolor{gray!50}', '')\\\n",
    ".replace('\\\\cellcolor{gray!15}', '')\\\n",
    ".replace('\\\\cellcolor{gray!25}', '')\\\n",
    ".replace('\\\\cellcolor{red!75}', '')\\\n",
    ".replace('\\\\cellcolor{red!50}', '')\\\n",
    ".replace('\\\\cellcolor{yellow!50}', '')\\\n",
    ".replace('\\\\cellcolor{green!50}', '')\\\n",
    ".replace('\\\\cellcolor{yellow!75}', '')\\\n",
    ".replace(\"\\\\parbox{1.5cm}{\", \" \")\\\n",
    ".replace(\"}\", \" \")\\\n",
    ".replace('\\bf', ' ')\\\n",
    ".replace('\\\\dots', '...')\\\n",
    ".replace('\\\\hline', '').replace('\\n',' ')\\\n",
    ".replace('\\t', ' ').replace('\\\\', ' \\n ').replace('&', ' \\t ')\n"
   ]
  },
  {
   "cell_type": "code",
   "execution_count": 64,
   "id": "bdeb12e1",
   "metadata": {},
   "outputs": [
    {
     "data": {
      "text/plain": [
       "'      Resp.   \\t    Accident  \\t    Probables Causes  \\t     Initial Risk Probabilité   \\t    Sévérité  \\t    Risk Level  \\t    Actions Preventives \\t    Reparations  \\t     Residual Risk Probabilité   \\t   Sévérité  \\t    Risk Level  \\n    Codeur   \\t  Usurpation d’identité  \\t  Stockage en clair du password \\t  3  \\t  4  \\t   12  \\t  Fonction de dérivation, graine et salage du mot de passage  \\t  Alerte client pour toute nouvelle connexion IP  \\t  1  \\t  2  \\t   2  \\n     Codeur   \\t  Injection  \\t  Données hostiles  \\t  4  \\t  4  \\t   16  \\t  Échappement des chars spéciaux, utilisation de LIMIT en SQL  \\t  Stocker données nécessaires, seulement  \\t  3  \\t  4  \\t   12  \\n     Codeur   \\t  Déni de service  \\t  Fichier accessible par tous via lien  \\t  5  \\t  2  \\t   10  \\t   Tester la performance E/S  \\t  Réarchitecturer, optimiser, mettre en cache  \\t  4  \\t  2  \\t   8  \\n   Data Scientist  \\t  Intégrité des données  \\t  Data sérialisées non sécurisées  \\t  3  \\t  4  \\t   12  \\t   Chiffrer et signer les data échangées  \\t  Ségrégation du pipeline, contrôler l’accès au code  \\t  2  \\t  3  \\t   6  \\n   Dev/Ops  \\t  Security Misconfiguration  \\t  Un composant est obsolète ou vulnérable  \\t  3  \\t  3.5  \\t   10.5  \\t  Ne pas installer des fonctionnalités inutilisées  \\t  Utiliser la conteneurisation, une architecture segmentée sûre  \\t  3  \\t  2  \\t   6  \\n   Codeur  \\t  Composant Vulnérable  \\t  Pas de veille sur failles de sécurité  \\t  2  \\t  3,5  \\t   7  \\t  Supprimer les dépendances inutiles  \\t  Mettre en dépôt une version risquée, lue et reconnue  \\t  1  \\t  3.5  \\t   3.5  \\n   Codeur  \\t  Erreur Gestion Mémoire  \\t  Mauvaise utilisation mémoire  \\t  5  \\t  3  \\t   15  \\t  Typer les variables, design pattern  \\t  Envisager le codage en Go ou Rust  \\t  1  \\t  3  \\t   3  \\n   Codeur  \\t  Authentification  \\t  Autoriser les comptes par défaut  \\t  3.6  \\t  5  \\t   18  \\t  Livrer, déployer sans compte par défaut  \\t  Intégrer des tests de password à la création, au changement  \\t  3  \\t  3  \\t   9  \\n   Dev/Ops  \\t  Vol de données bancaires  \\t  Mémorisation du numéro de CB  \\t  2  \\t  8  \\t   16  \\t  Utiliser une tokenisation de norme sûre comme PCI DSS  \\t  Classifier, identifier ou rejeter les données sensibles  \\t  2  \\t  4  \\t   8  \\n   Data Scientist  \\t  SR connaissant peu les clients  \\t  Connaissance des clients faible  \\t  5  \\t  3  \\t   15  \\t  Utiliser la reconnaissance d’image pour les recommandations  \\t  Enregistrer les interactions des clients avec les articles  \\t  2  \\t  2  \\t   4  \\n   Data Scientist  \\t  Données articles mal labellisées  \\t  Petit nombre de bonnes images  \\t  3  \\t  3  \\t   9  \\t  Utiliser une technique de data augmentation  \\t  Regrouper des centaines d’images par catégories  \\t  2  \\t  2  \\t   4  \\n   Data Scientist  \\t  RGPD trop contraignant  \\t  Les photos doivent être anonymisés  \\t  3  \\t  3  \\t   6  \\t  Effacer les métadonnées des photos  \\t  Flouter les visages  \\t  2  \\t  1  \\t   2  \\n   '"
      ]
     },
     "execution_count": 64,
     "metadata": {},
     "output_type": "execute_result"
    }
   ],
   "source": [
    "d.encode('utf-8').decode()"
   ]
  },
  {
   "cell_type": "code",
   "execution_count": 65,
   "id": "1727aabc",
   "metadata": {},
   "outputs": [],
   "source": [
    "with open('risk_prevention.csv', 'w') as f:\n",
    "    f.writelines(d.encode('utf-8').decode())"
   ]
  },
  {
   "cell_type": "code",
   "execution_count": null,
   "id": "4d964e6b",
   "metadata": {},
   "outputs": [],
   "source": []
  },
  {
   "cell_type": "code",
   "execution_count": 66,
   "id": "5c31c3a8",
   "metadata": {},
   "outputs": [],
   "source": [
    "pd.read_csv('risk_prevention.csv', sep='\\t').to_excel('risk_prevention.xlsx')"
   ]
  },
  {
   "cell_type": "code",
   "execution_count": 69,
   "id": "e832415e",
   "metadata": {},
   "outputs": [
    {
     "name": "stdout",
     "output_type": "stream",
     "text": [
      "     Codeur   \n"
     ]
    }
   ],
   "source": [
    "from openpyxl import load_workbook\n",
    "wb_backlog = load_workbook(filename = 'risk_prevention.xlsx')\n",
    "ws_backlog = wb_backlog['Sheet1']\n",
    "print(ws_backlog['B3'].value)"
   ]
  },
  {
   "cell_type": "code",
   "execution_count": 70,
   "id": "61b302ad",
   "metadata": {},
   "outputs": [],
   "source": [
    "greenLightFill = PatternFill(start_color='80ff80',\n",
    "                   end_color='80ff80',\n",
    "                   fill_type='solid')\n",
    "yellowFill = PatternFill(start_color='fff980',\n",
    "                   end_color='fff980',\n",
    "                   fill_type='solid')\n",
    "redLightFill = PatternFill(start_color='ff8080',\n",
    "                   end_color='ff8080',\n",
    "                   fill_type='solid')\n",
    "redDarkFill = PatternFill(start_color='ff4040',\n",
    "                   end_color='ff4040',\n",
    "                   fill_type='solid')"
   ]
  },
  {
   "cell_type": "code",
   "execution_count": 71,
   "id": "24a6fefe",
   "metadata": {},
   "outputs": [],
   "source": [
    "ws_backlog.delete_cols(1, 1)"
   ]
  },
  {
   "cell_type": "code",
   "execution_count": 93,
   "id": "67fee27e",
   "metadata": {},
   "outputs": [],
   "source": [
    "for l in ['F', 'K']:\n",
    "    for cell in ws_backlog[ l + '2:' + l + '13']:\n",
    "        text = str(cell[0].value).rstrip().lstrip()\n",
    "        for x in range(len(cell)):\n",
    "            if float(text) <= 5. :\n",
    "                cell[x].fill = greenLightFill\n",
    "            elif (float(text) > 5.) & (float(text) <= 10.) :\n",
    "                cell[x].fill = yellowFill\n",
    "            elif (float(text) > 10.) & (float(text) <= 15.) :\n",
    "                cell[x].fill = redLightFill\n",
    "            elif float(text) > 15. :\n",
    "                cell[x].fill = redLightFill"
   ]
  },
  {
   "cell_type": "code",
   "execution_count": 94,
   "id": "bbc44e0f",
   "metadata": {},
   "outputs": [],
   "source": [
    "ws_backlog.title = \"Risk_prevention\"\n",
    "wb_backlog.save(filename = 'risk_prevention.xlsx')"
   ]
  }
 ],
 "metadata": {
  "kernelspec": {
   "display_name": "Python 3 (ipykernel)",
   "language": "python",
   "name": "python3"
  },
  "language_info": {
   "codemirror_mode": {
    "name": "ipython",
    "version": 3
   },
   "file_extension": ".py",
   "mimetype": "text/x-python",
   "name": "python",
   "nbconvert_exporter": "python",
   "pygments_lexer": "ipython3",
   "version": "3.9.7"
  }
 },
 "nbformat": 4,
 "nbformat_minor": 5
}
