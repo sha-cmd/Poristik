{
 "cells": [
  {
   "cell_type": "markdown",
   "metadata": {},
   "source": [
    "# Latex to Excel\n",
    "Ce notebook permet de réaliser la conversion des tableaux depuis le code latex jusqu’à un format excel.\n",
    "Nous mettons le fichier en liste puis string, sur laquelle nous appliquons un pattern regex pour sélectionner les tableaux.\n",
    "Enfin nous utilisons openpyxl pour transformer les informations en tableur excel."
   ]
  },
  {
   "cell_type": "code",
   "execution_count": 1,
   "metadata": {},
   "outputs": [],
   "source": [
    "import pandas as pd\n",
    "from openpyxl import load_workbook\n",
    "from openpyxl.styles import PatternFill, Font\n",
    "import re"
   ]
  },
  {
   "cell_type": "markdown",
   "metadata": {},
   "source": [
    "Nous mettons le fichier en liste"
   ]
  },
  {
   "cell_type": "code",
   "execution_count": 2,
   "metadata": {},
   "outputs": [],
   "source": [
    "d = []\n",
    "with open(\"../Risks/RiskAnalysis/riskAnalysis.tex\") as f:\n",
    "    for line in f:\n",
    "        d.append(line.replace('\\n', '').replace(\"\\\\\\\\\", \"\\\\\"))\n"
   ]
  },
  {
   "cell_type": "markdown",
   "metadata": {},
   "source": [
    "Nous utilsons le Regex"
   ]
  },
  {
   "cell_type": "code",
   "execution_count": 3,
   "metadata": {},
   "outputs": [
    {
     "name": "stdout",
     "output_type": "stream",
     "text": [
      "Match 1 was found at 2188-10944: begin{tabular}{p{2cm}p{6,1cm}p{1cm}p{1cm}p{12.25cm}} \\hline  \t\\cellcolor{violet!50}& \\cellcolor{violet!50}& \\cellcolor{violet!50}& \\cellcolor{violet!50}&\\bf Périmètre \\cellcolor{violet!50}\\ \\cellcolor{violet!50} & \\bf Le périmètre projet a-t-il été établi avec une précision suffisant ? & \\bf OUI \\cellcolor{green!50}& \\bf NON\\cellcolor{red!50} & Le projet est une application mobile reconnaissant le style de vêtement porté par un individu et lui recommandant des articles dans le même style. \\ DIMENSION 1\\cellcolor{violet!50} & \\bf Le volume du projet est-il important ? & \\bf OUI \\cellcolor{red!50}& \\bf NON\\cellcolor{green!50} & Le projet est un MVP pour un COMEX, il pourrait grossir s’il attire beaucoup d’investisseur \\ \\cellcolor{violet!50} & \\bf Le projet aborde-t-il plusieurs domaines, implique-i-il plusieurs réalisations différentes ? & \\bf OUI \\cellcolor{green!50}& \\bf NON\\cellcolor{red!50} & Le projet contient une partie web et gestion des accès, une partie base de données clients/produits, sécurité, éthique et une partie IA. \\ \\hline\t\\cellcolor{red!90}& \\cellcolor{red!90}& \\cellcolor{red!90}& \\cellcolor{red!90}&\\bf Budget \\cellcolor{red!90}\\ \\cellcolor{red!90} & \\bf Le budget est-il défini avec précision ? & \\bf OUI \\cellcolor{green!50}& \\bf NON\\cellcolor{red!50} & La MVP comporte une budgétisation des ressources matérielles et humaines. De plus la rentabilité est estimée, pour intéresser les financiers. \\ DIMENSION 2\\cellcolor{red!90} & \\bf Le budget tient-il compte de l’effort de pilotage ? & \\bf OUI \\cellcolor{green!50}& \\bf NON\\cellcolor{red!50} & Dans les ressources humaines est compté un coach agile. \\ \\cellcolor{red!90} & \\bf Le budget est-il cohérent avec les charges identifiées ? & \\bf OUI \\cellcolor{green!50}& \\bf NON\\cellcolor{red!50} & L’équipe peut s’appuyer sur des outils Azure et les data pour le modèle de deep learning sont bien étiquetées. \\ \\cellcolor{red!90} & \\bf Le budget est-il validé ? & \\bf OUI \\cellcolor{red!50}& \\bf NON\\cellcolor{green!50} & Si la version alpha arrive à convaincre, le budget sera ajusté à la levée des fonds. \\ \\hline \\cellcolor{orange!75}& \\cellcolor{orange!75}& \\cellcolor{orange!75}& \\cellcolor{orange!75}&\\bf Temps \\cellcolor{orange!75}\\ \\cellcolor{orange!75} & \\bf Un planning (même macro) prévisionnel a-t-il été établi ? & \\bf OUI \\cellcolor{green!50}& \\bf NON\\cellcolor{red!50} & Un diagramme de GANTT sera pourvu. \\ DIMENSION 3\\cellcolor{orange!75} & \\bf Des échéances impératives existent-elle ? & \\bf OUI \\cellcolor{green!50}& \\bf NON\\cellcolor{red!50} & La présentation a lieu au COMEX. \\ \\cellcolor{orange!75} & \\bf Le temps disponible est-il cohérent avec le périmètre du projet ? & \\bf OUI \\cellcolor{red!50}& \\bf NON\\cellcolor{green!50} & Il sera quasiment impossible de produire un livrable remplissant toutes les fonctionnalités avec le budget de départ, dans les délais. \\ \\cellcolor{orange!75} & \\bf La période de réalisation du projet contient-elle des dates où on ne pourra pas travailler au projet ? & \\bf OUI \\cellcolor{red!50}& \\bf NON\\cellcolor{green!50} & L’équipe est disponible sans interruption. \\ \\hline \\cellcolor{yellow!50}& \\cellcolor{yellow!50}& \\cellcolor{yellow!50}& \\cellcolor{yellow!50}&\\bf Équipe \\cellcolor{yellow!50}\\ \\cellcolor{yellow!50} & \\bf Les compétences nécessaires à la réalisation sont-elles disponibles ? & \\bf OUI \\cellcolor{green!50}& \\bf NON\\cellcolor{red!50} & Les compétences Web et IA sont toutes présentes en interne. \\ \\cellcolor{yellow!50} & \\bf Ces compétences sont-elles apportées via de la sous-traitance ? & \\bf OUI \\cellcolor{red!50}& \\bf NON\\cellcolor{green!50} & Les compétences peuvent être remplacées par un sous-traitant, le cas échéant. \\ DIMENSION 4\\cellcolor{yellow!50} & \\bf Les ressources nécessaires à la réalisation du projet sont-elles mobilisées ? & \\bf OUI \\cellcolor{green!50}& \\bf NON\\cellcolor{red!50} & L’équipe a été affectée à l’open-space et le matériel est monté sur les bureaux. \\ \\cellcolor{yellow!50} & \\bf Le commanditaire dispose-t-il des compétences requises pour mener à bien le projet ? & \\bf OUI \\cellcolor{green!50}& \\bf NON\\cellcolor{red!50} & L’étiquetage des données et la charte graphique sont déjà construits. \\ \\cellcolor{yellow!50} & \\bf Le commanditaire dispose-t-il des ressources nécessaires au suivi du projet ? & \\bf OUI \\cellcolor{green!50}& \\bf NON\\cellcolor{red!50} & C’est un projet interne doté du monitoring habituel. \\ \\hline \\cellcolor{green!75}& \\cellcolor{green!75}& \\cellcolor{green!75}& \\cellcolor{green!75}&\\bf Décision \\cellcolor{green!75}\\ \\cellcolor{green!75} & \\bf Une gouvernance projet a-t-elle été établie ? & \\bf OUI \\cellcolor{green!50}& \\bf NON\\cellcolor{red!50} & Un chef de projet est identifié, avec en plus un coach agile. \\ \\cellcolor{green!75} & \\bf Les décideurs seront-ils disponibles pendant le déroulement du projet ? & \\bf OUI \\cellcolor{green!50}& \\bf NON\\cellcolor{red!50} & Un product manager est identifié et sur place. \\ DIMENSION 5\\cellcolor{green!75} & \\bf Les décisionnaires sont-ils identifiés ? & \\bf OUI \\cellcolor{green!50}& \\bf NON\\cellcolor{red!50} & Le VP Product est identifié. \\ \\cellcolor{green!75} & \\bf La responsabilité des décisions des décisions est-elle établie ? & \\bf OUI \\cellcolor{green!50}& \\bf NON\\cellcolor{red!50} & Le product manager valide la faisabilité, la VP Product valide le choix des fonctionnalités et le budget. \\ \\cellcolor{green!75} & \\bf Existe-t-il une chaîne de validation avec de nombreux maillons ? & \\bf OUI \\cellcolor{green!50}& \\bf NON\\cellcolor{red!50} & Les questions de faisabilité exigerait un architecte, car les développeurs, s’appuie juste sur les conventions OWASP. \\ \\hline \\cellcolor{blue!50}& \\cellcolor{blue!50}& \\cellcolor{blue!50}& \\cellcolor{blue!50}&\\bf Complexité \\cellcolor{blue!50}\\ \\cellcolor{blue!50} & \\bf Le projet doit-il répondre à des problématiques de sécurité élevée ? & \\bf OUI \\cellcolor{red!50}& \\bf NON\\cellcolor{green!50} & La communication chiffrée, avec un certificat auprès d’un organisme, nécessite un budget, la maintenance sécurité aussi. \\ \\cellcolor{blue!50} & \\bf La réalisation devra-t-elle interagir avec un ou plusieurs systèmes externes ? & \\bf OUI \\cellcolor{green!50}& \\bf NON\\cellcolor{red!50} & Le projet sera déployé dans le cloud et beaucoup de bibliothèque Web et de Data Science seront des dépendances. \\ DIMENSION 6\\cellcolor{blue!50} & \\bf Les équipes de réalisation ont-elles identifié un niveau de complexité élevé pour un ou plusieurs aspects du projet (orienté parcours / interactions) ? & \\bf OUI \\cellcolor{green!50}& \\bf NON\\cellcolor{red!50} & Le budget est relatif au retour sur investissement. La mise en conformité des traitements des data. L’augmentation des ventes d’articles. \\ \\cellcolor{blue!50} & \\bf Les équipes de réalisation ont-elles identifié un niveau de complexité élevé pour un ou plusieurs aspects du projet (orienté technologies) ? & \\bf OUI \\cellcolor{green!50}& \\bf NON\\cellcolor{red!50} & La sécurité du site contre le hacking pouvant opérer sur les modèles de réseau de neurones. \\ \\cellcolor{blue!50} & \\bf L’environnement dans lequel la réalisation devra être livrée est-il maîtrisé ? & \\bf OUI \\cellcolor{green!50}& \\bf NON\\cellcolor{red!50} & Application accessible depuis un smartphone connecté à l’internet. \\ \\hline \\cellcolor{blue!70}& \\cellcolor{blue!70}& \\cellcolor{blue!70}& \\cellcolor{blue!70}&\\bf Innovation \\cellcolor{blue!70}\\ \\cellcolor{blue!70} & \\bf Avez-vous déjà mené un projet conduisant à une réalisation similaire ? & \\bf OUI \\cellcolor{green!50}& \\bf NON\\cellcolor{red!50} & À la différence que ce projet comporte un amalgame de modèles prédictifs. \\ \\cellcolor{blue!70} & \\bf Des références existantes ont-elles été identifiées ? & \\bf OUI \\cellcolor{green!50}& \\bf NON\\cellcolor{red!50} & Snapchat, Instagram, Vinteed. \\ DIMENSION 7\\cellcolor{blue!70} & \\bf Des ressources documentaires sur les technologies employées sont-elles disponibles ? & \\bf OUI \\cellcolor{green!50}& \\bf NON\\cellcolor{red!50} & Un abonnement sur un site d’éditeur de documentations sur l’IT devra être souscrit pour l’équipe. \\ \\cellcolor{blue!70} & \\bf Le projet propose-t-il des fonctionnalités réellement innovantes ? & \\bf OUI \\cellcolor{red!50}& \\bf NON\\cellcolor{green!50} & Les réseaux de neurones et l’IA sont très courants, les applications mobiles aussi. \\ \\cellcolor{blue!70} & \\bf Envisagez-vous la réalisation d’interfaces inédites? & \\bf OUI \\cellcolor{red!50}& \\bf NON\\cellcolor{green!50} & L’utilisateur ne sera pas obligé de changer son terminal. \\ \\cellcolor{blue!70} & \\bf Une étude de faisabilité a-t-elle été conduite ? & \\bf OUI \\cellcolor{green!50}& \\bf NON\\cellcolor{red!50} & Le dossier contient un périmètre de fonctionnalité détaillé. \\    \\hline \\end{tabular}\n",
      "Group 1 found at 2188-10944: begin{tabular}{p{2cm}p{6,1cm}p{1cm}p{1cm}p{12.25cm}} \\hline  \t\\cellcolor{violet!50}& \\cellcolor{violet!50}& \\cellcolor{violet!50}& \\cellcolor{violet!50}&\\bf Périmètre \\cellcolor{violet!50}\\ \\cellcolor{violet!50} & \\bf Le périmètre projet a-t-il été établi avec une précision suffisant ? & \\bf OUI \\cellcolor{green!50}& \\bf NON\\cellcolor{red!50} & Le projet est une application mobile reconnaissant le style de vêtement porté par un individu et lui recommandant des articles dans le même style. \\ DIMENSION 1\\cellcolor{violet!50} & \\bf Le volume du projet est-il important ? & \\bf OUI \\cellcolor{red!50}& \\bf NON\\cellcolor{green!50} & Le projet est un MVP pour un COMEX, il pourrait grossir s’il attire beaucoup d’investisseur \\ \\cellcolor{violet!50} & \\bf Le projet aborde-t-il plusieurs domaines, implique-i-il plusieurs réalisations différentes ? & \\bf OUI \\cellcolor{green!50}& \\bf NON\\cellcolor{red!50} & Le projet contient une partie web et gestion des accès, une partie base de données clients/produits, sécurité, éthique et une partie IA. \\ \\hline\t\\cellcolor{red!90}& \\cellcolor{red!90}& \\cellcolor{red!90}& \\cellcolor{red!90}&\\bf Budget \\cellcolor{red!90}\\ \\cellcolor{red!90} & \\bf Le budget est-il défini avec précision ? & \\bf OUI \\cellcolor{green!50}& \\bf NON\\cellcolor{red!50} & La MVP comporte une budgétisation des ressources matérielles et humaines. De plus la rentabilité est estimée, pour intéresser les financiers. \\ DIMENSION 2\\cellcolor{red!90} & \\bf Le budget tient-il compte de l’effort de pilotage ? & \\bf OUI \\cellcolor{green!50}& \\bf NON\\cellcolor{red!50} & Dans les ressources humaines est compté un coach agile. \\ \\cellcolor{red!90} & \\bf Le budget est-il cohérent avec les charges identifiées ? & \\bf OUI \\cellcolor{green!50}& \\bf NON\\cellcolor{red!50} & L’équipe peut s’appuyer sur des outils Azure et les data pour le modèle de deep learning sont bien étiquetées. \\ \\cellcolor{red!90} & \\bf Le budget est-il validé ? & \\bf OUI \\cellcolor{red!50}& \\bf NON\\cellcolor{green!50} & Si la version alpha arrive à convaincre, le budget sera ajusté à la levée des fonds. \\ \\hline \\cellcolor{orange!75}& \\cellcolor{orange!75}& \\cellcolor{orange!75}& \\cellcolor{orange!75}&\\bf Temps \\cellcolor{orange!75}\\ \\cellcolor{orange!75} & \\bf Un planning (même macro) prévisionnel a-t-il été établi ? & \\bf OUI \\cellcolor{green!50}& \\bf NON\\cellcolor{red!50} & Un diagramme de GANTT sera pourvu. \\ DIMENSION 3\\cellcolor{orange!75} & \\bf Des échéances impératives existent-elle ? & \\bf OUI \\cellcolor{green!50}& \\bf NON\\cellcolor{red!50} & La présentation a lieu au COMEX. \\ \\cellcolor{orange!75} & \\bf Le temps disponible est-il cohérent avec le périmètre du projet ? & \\bf OUI \\cellcolor{red!50}& \\bf NON\\cellcolor{green!50} & Il sera quasiment impossible de produire un livrable remplissant toutes les fonctionnalités avec le budget de départ, dans les délais. \\ \\cellcolor{orange!75} & \\bf La période de réalisation du projet contient-elle des dates où on ne pourra pas travailler au projet ? & \\bf OUI \\cellcolor{red!50}& \\bf NON\\cellcolor{green!50} & L’équipe est disponible sans interruption. \\ \\hline \\cellcolor{yellow!50}& \\cellcolor{yellow!50}& \\cellcolor{yellow!50}& \\cellcolor{yellow!50}&\\bf Équipe \\cellcolor{yellow!50}\\ \\cellcolor{yellow!50} & \\bf Les compétences nécessaires à la réalisation sont-elles disponibles ? & \\bf OUI \\cellcolor{green!50}& \\bf NON\\cellcolor{red!50} & Les compétences Web et IA sont toutes présentes en interne. \\ \\cellcolor{yellow!50} & \\bf Ces compétences sont-elles apportées via de la sous-traitance ? & \\bf OUI \\cellcolor{red!50}& \\bf NON\\cellcolor{green!50} & Les compétences peuvent être remplacées par un sous-traitant, le cas échéant. \\ DIMENSION 4\\cellcolor{yellow!50} & \\bf Les ressources nécessaires à la réalisation du projet sont-elles mobilisées ? & \\bf OUI \\cellcolor{green!50}& \\bf NON\\cellcolor{red!50} & L’équipe a été affectée à l’open-space et le matériel est monté sur les bureaux. \\ \\cellcolor{yellow!50} & \\bf Le commanditaire dispose-t-il des compétences requises pour mener à bien le projet ? & \\bf OUI \\cellcolor{green!50}& \\bf NON\\cellcolor{red!50} & L’étiquetage des données et la charte graphique sont déjà construits. \\ \\cellcolor{yellow!50} & \\bf Le commanditaire dispose-t-il des ressources nécessaires au suivi du projet ? & \\bf OUI \\cellcolor{green!50}& \\bf NON\\cellcolor{red!50} & C’est un projet interne doté du monitoring habituel. \\ \\hline \\cellcolor{green!75}& \\cellcolor{green!75}& \\cellcolor{green!75}& \\cellcolor{green!75}&\\bf Décision \\cellcolor{green!75}\\ \\cellcolor{green!75} & \\bf Une gouvernance projet a-t-elle été établie ? & \\bf OUI \\cellcolor{green!50}& \\bf NON\\cellcolor{red!50} & Un chef de projet est identifié, avec en plus un coach agile. \\ \\cellcolor{green!75} & \\bf Les décideurs seront-ils disponibles pendant le déroulement du projet ? & \\bf OUI \\cellcolor{green!50}& \\bf NON\\cellcolor{red!50} & Un product manager est identifié et sur place. \\ DIMENSION 5\\cellcolor{green!75} & \\bf Les décisionnaires sont-ils identifiés ? & \\bf OUI \\cellcolor{green!50}& \\bf NON\\cellcolor{red!50} & Le VP Product est identifié. \\ \\cellcolor{green!75} & \\bf La responsabilité des décisions des décisions est-elle établie ? & \\bf OUI \\cellcolor{green!50}& \\bf NON\\cellcolor{red!50} & Le product manager valide la faisabilité, la VP Product valide le choix des fonctionnalités et le budget. \\ \\cellcolor{green!75} & \\bf Existe-t-il une chaîne de validation avec de nombreux maillons ? & \\bf OUI \\cellcolor{green!50}& \\bf NON\\cellcolor{red!50} & Les questions de faisabilité exigerait un architecte, car les développeurs, s’appuie juste sur les conventions OWASP. \\ \\hline \\cellcolor{blue!50}& \\cellcolor{blue!50}& \\cellcolor{blue!50}& \\cellcolor{blue!50}&\\bf Complexité \\cellcolor{blue!50}\\ \\cellcolor{blue!50} & \\bf Le projet doit-il répondre à des problématiques de sécurité élevée ? & \\bf OUI \\cellcolor{red!50}& \\bf NON\\cellcolor{green!50} & La communication chiffrée, avec un certificat auprès d’un organisme, nécessite un budget, la maintenance sécurité aussi. \\ \\cellcolor{blue!50} & \\bf La réalisation devra-t-elle interagir avec un ou plusieurs systèmes externes ? & \\bf OUI \\cellcolor{green!50}& \\bf NON\\cellcolor{red!50} & Le projet sera déployé dans le cloud et beaucoup de bibliothèque Web et de Data Science seront des dépendances. \\ DIMENSION 6\\cellcolor{blue!50} & \\bf Les équipes de réalisation ont-elles identifié un niveau de complexité élevé pour un ou plusieurs aspects du projet (orienté parcours / interactions) ? & \\bf OUI \\cellcolor{green!50}& \\bf NON\\cellcolor{red!50} & Le budget est relatif au retour sur investissement. La mise en conformité des traitements des data. L’augmentation des ventes d’articles. \\ \\cellcolor{blue!50} & \\bf Les équipes de réalisation ont-elles identifié un niveau de complexité élevé pour un ou plusieurs aspects du projet (orienté technologies) ? & \\bf OUI \\cellcolor{green!50}& \\bf NON\\cellcolor{red!50} & La sécurité du site contre le hacking pouvant opérer sur les modèles de réseau de neurones. \\ \\cellcolor{blue!50} & \\bf L’environnement dans lequel la réalisation devra être livrée est-il maîtrisé ? & \\bf OUI \\cellcolor{green!50}& \\bf NON\\cellcolor{red!50} & Application accessible depuis un smartphone connecté à l’internet. \\ \\hline \\cellcolor{blue!70}& \\cellcolor{blue!70}& \\cellcolor{blue!70}& \\cellcolor{blue!70}&\\bf Innovation \\cellcolor{blue!70}\\ \\cellcolor{blue!70} & \\bf Avez-vous déjà mené un projet conduisant à une réalisation similaire ? & \\bf OUI \\cellcolor{green!50}& \\bf NON\\cellcolor{red!50} & À la différence que ce projet comporte un amalgame de modèles prédictifs. \\ \\cellcolor{blue!70} & \\bf Des références existantes ont-elles été identifiées ? & \\bf OUI \\cellcolor{green!50}& \\bf NON\\cellcolor{red!50} & Snapchat, Instagram, Vinteed. \\ DIMENSION 7\\cellcolor{blue!70} & \\bf Des ressources documentaires sur les technologies employées sont-elles disponibles ? & \\bf OUI \\cellcolor{green!50}& \\bf NON\\cellcolor{red!50} & Un abonnement sur un site d’éditeur de documentations sur l’IT devra être souscrit pour l’équipe. \\ \\cellcolor{blue!70} & \\bf Le projet propose-t-il des fonctionnalités réellement innovantes ? & \\bf OUI \\cellcolor{red!50}& \\bf NON\\cellcolor{green!50} & Les réseaux de neurones et l’IA sont très courants, les applications mobiles aussi. \\ \\cellcolor{blue!70} & \\bf Envisagez-vous la réalisation d’interfaces inédites? & \\bf OUI \\cellcolor{red!50}& \\bf NON\\cellcolor{green!50} & L’utilisateur ne sera pas obligé de changer son terminal. \\ \\cellcolor{blue!70} & \\bf Une étude de faisabilité a-t-elle été conduite ? & \\bf OUI \\cellcolor{green!50}& \\bf NON\\cellcolor{red!50} & Le dossier contient un périmètre de fonctionnalité détaillé. \\    \\hline \\end{tabular}\n",
      "Match 2 was found at 11571-15238: begin{tabular}{p{.1cm}p{6,1cm}p{3.5cm}p{6.75cm} p{6.75cm}} \\hline & Risque identifié & \\bf Origine du risque & \\bf Déclencheurs envisageables & \\bf Conséquences possibles \\ \\hline  \\cellcolor{violet!75} & Impossibilité de faire évoluer le budget en cours de projet & Mauvais qualité du code\\cellcolor{green!50} &   {•} Mauvaise gestion mémoire \t\t\t {•} Dépassement de pile/tampon \\cellcolor{blue!50}  &  {•} Nécessité d’écrire dans le langage Go ou Rust  {•} Structurer le code en design Pattern et imposer les types pour chaque variable \\cellcolor{red!50}\\ \\hline \\cellcolor{red!75} & Dépassement de budget & Ressources humaines surévaluées\\cellcolor{green!50} &   {•} Conflit sur l’attribution des rôles  {•} Storming dans le groupe \\cellcolor{blue!50} &  {•} Absentéisme/départ  {•} Manque de motivation  {•} Perception d’abandon du projet   \\cellcolor{red!50}\\ \\hline \\cellcolor{orange!75} & Dépassement de l’objectif Délais & Mauvaise charge de travail\\cellcolor{green!50} &   {•} Manque des fonctionnalités essentiels  {•} Travail dans l’urgence, pas de repos \\cellcolor{blue!50} &  {•} Produit non-fonctionnel  {•} Mécontentement dans l’équipe  {•} Prise de risque inconsidérée   \\cellcolor{red!50}\\ \\hline \\cellcolor{yellow!75} & Défaut de contrôle de la production mobile & Mauvaise sécurité et maj\\cellcolor{green!50} &   {•} Manque d’examen des permissions de stockage dans le Cloud  {•} Les serveurs n’envoient pas d’en-têtes ou de directives de sécurité, ou ne sont pas paramétré avec des valeurs de sécurité. \\cellcolor{blue!50} &  {•} La configuration permet d’envoyer au client des messages d’erreurs détaillés, avec des traces de couches protocolaires applicatives.  {•} Un fournisseur de Cloud a positionné des droits par défaut, ouvert sur Internet, cela permet l’accès à des données sensibles.  {•} Prise de risque inconsidérée   \\cellcolor{red!50}\\  \\hline \\cellcolor{green!75} & Mauvaise identification d’un client & \tAuthentification\\cellcolor{green!50} &   {•} Le processus de récupération du mot de passe est faible ou inefficace.  {•} Les jetons de sessions ne sont pas correctement invalidés lors de la déconnexion. \\cellcolor{blue!50} &  {•} Un attaquant utilise un même navigateur quelque temps après et l’utilisateur est toujours authentifié.  {•} L’application peut être utilisé comme un oracle pour déterminer si les mots de passes sont valides.  {•} Les utilisateurs utilisent des mots de passes faibles.   \\cellcolor{red!50}\\   \\hline \\cellcolor{blue!50} & Anomalie techniques dans les transferts d’information & Utilisation de FTP ou SMTP\\cellcolor{green!50} &   {•} Utilisation d’un chiffrement simple plutôt qu’un chiffrement authentifié  {•} Ne pas désactiver le cache pour des réponses contenant des données sensibles  \\cellcolor{blue!50} &  {•} Un attaquant intercepte les cookie et détourne la session pour voler les données en transit (virement d’argent)  {•} Les données sont automatiquement déchiffrées, permettant de récupérer des numéros de carte de crédit en clair.   \\cellcolor{red!50}\\   \\hline \\cellcolor{blue!75} & Composant obsolète et vulnérable & Absence de veille technologique\\cellcolor{green!50} &   {•} Ne pas savoir quels sont tous les composants que vous utilisez  {•} Si les développeurs de logiciels ne testent pas la compatibilité des évolutions, des majs et des correctifs  \\cellcolor{blue!50} &  {•} Les composants s’exécutent avec le même niveau de privilèges que l’application, donc peuvent engendrer un impact sévère.  {•} Le référencement sur des moteurs de recherche aidant les attaquants à trouver des systèmes mal configurés ou non mis à jour (Shodan).   \\cellcolor{red!50}\\  \\hline \\end{tabular}\n",
      "Group 1 found at 11571-15238: begin{tabular}{p{.1cm}p{6,1cm}p{3.5cm}p{6.75cm} p{6.75cm}} \\hline & Risque identifié & \\bf Origine du risque & \\bf Déclencheurs envisageables & \\bf Conséquences possibles \\ \\hline  \\cellcolor{violet!75} & Impossibilité de faire évoluer le budget en cours de projet & Mauvais qualité du code\\cellcolor{green!50} &   {•} Mauvaise gestion mémoire \t\t\t {•} Dépassement de pile/tampon \\cellcolor{blue!50}  &  {•} Nécessité d’écrire dans le langage Go ou Rust  {•} Structurer le code en design Pattern et imposer les types pour chaque variable \\cellcolor{red!50}\\ \\hline \\cellcolor{red!75} & Dépassement de budget & Ressources humaines surévaluées\\cellcolor{green!50} &   {•} Conflit sur l’attribution des rôles  {•} Storming dans le groupe \\cellcolor{blue!50} &  {•} Absentéisme/départ  {•} Manque de motivation  {•} Perception d’abandon du projet   \\cellcolor{red!50}\\ \\hline \\cellcolor{orange!75} & Dépassement de l’objectif Délais & Mauvaise charge de travail\\cellcolor{green!50} &   {•} Manque des fonctionnalités essentiels  {•} Travail dans l’urgence, pas de repos \\cellcolor{blue!50} &  {•} Produit non-fonctionnel  {•} Mécontentement dans l’équipe  {•} Prise de risque inconsidérée   \\cellcolor{red!50}\\ \\hline \\cellcolor{yellow!75} & Défaut de contrôle de la production mobile & Mauvaise sécurité et maj\\cellcolor{green!50} &   {•} Manque d’examen des permissions de stockage dans le Cloud  {•} Les serveurs n’envoient pas d’en-têtes ou de directives de sécurité, ou ne sont pas paramétré avec des valeurs de sécurité. \\cellcolor{blue!50} &  {•} La configuration permet d’envoyer au client des messages d’erreurs détaillés, avec des traces de couches protocolaires applicatives.  {•} Un fournisseur de Cloud a positionné des droits par défaut, ouvert sur Internet, cela permet l’accès à des données sensibles.  {•} Prise de risque inconsidérée   \\cellcolor{red!50}\\  \\hline \\cellcolor{green!75} & Mauvaise identification d’un client & \tAuthentification\\cellcolor{green!50} &   {•} Le processus de récupération du mot de passe est faible ou inefficace.  {•} Les jetons de sessions ne sont pas correctement invalidés lors de la déconnexion. \\cellcolor{blue!50} &  {•} Un attaquant utilise un même navigateur quelque temps après et l’utilisateur est toujours authentifié.  {•} L’application peut être utilisé comme un oracle pour déterminer si les mots de passes sont valides.  {•} Les utilisateurs utilisent des mots de passes faibles.   \\cellcolor{red!50}\\   \\hline \\cellcolor{blue!50} & Anomalie techniques dans les transferts d’information & Utilisation de FTP ou SMTP\\cellcolor{green!50} &   {•} Utilisation d’un chiffrement simple plutôt qu’un chiffrement authentifié  {•} Ne pas désactiver le cache pour des réponses contenant des données sensibles  \\cellcolor{blue!50} &  {•} Un attaquant intercepte les cookie et détourne la session pour voler les données en transit (virement d’argent)  {•} Les données sont automatiquement déchiffrées, permettant de récupérer des numéros de carte de crédit en clair.   \\cellcolor{red!50}\\   \\hline \\cellcolor{blue!75} & Composant obsolète et vulnérable & Absence de veille technologique\\cellcolor{green!50} &   {•} Ne pas savoir quels sont tous les composants que vous utilisez  {•} Si les développeurs de logiciels ne testent pas la compatibilité des évolutions, des majs et des correctifs  \\cellcolor{blue!50} &  {•} Les composants s’exécutent avec le même niveau de privilèges que l’application, donc peuvent engendrer un impact sévère.  {•} Le référencement sur des moteurs de recherche aidant les attaquants à trouver des systèmes mal configurés ou non mis à jour (Shodan).   \\cellcolor{red!50}\\  \\hline \\end{tabular}\n",
      "Match 3 was found at 16479-19689: begin{tabular}{p{1cm} p{2cm} p{2cm} p{1.5cm} p{1cm}p{1cm}p{4cm}p{3.3cm} p{1.3cm}p{1cm} p{1cm}} \\hline   \\bf Resp.  & \\bf Accident & \\bf Probables Causes & \\parbox{1.5cm}{\\bf Initial Risk Probabilité} & \\bf Sévérité & \\bf Risk Level & \\bf Actions Preventives& \\bf Reparations & \\parbox{1.5cm}{\\bf Residual Risk Probabilité} &\\bf Sévérité & \\bf Risk Level \\ \\hline  Codeur  & Usurpation d’identité & Stockage en clair du password& 3 & 4 & \\cellcolor{red!50} 12 & Fonction de dérivation, graine et salage du mot de passage & Alerte client pour toute nouvelle connexion IP & 1 & 2 & \\cellcolor{green!50} 2 \\    Codeur  & Injection & Données hostiles & 4 & 4 & \\cellcolor{red!75} 16 & Échappement des chars spéciaux, utilisation de LIMIT en SQL & Stocker données nécessaires, seulement & 3 & 4 & \\cellcolor{yellow!50} 12 \\    Codeur  & Déni de service & Fichier accessible par tous via lien & 5 & 2 & \\cellcolor{yellow!50} 10 &  Tester la performance E/S & Réarchitecturer, optimiser, mettre en cache & 4 & 2 & \\cellcolor{yellow!50} 8 \\  Data Scientist & Intégrité des données & Data sérialisées non sécurisées & 3 & 4 & \\cellcolor{red!50} 12 &  Chiffrer et signer les data échangées & Ségrégation du pipeline, contrôler l’accès au code & 2 & 3 & \\cellcolor{yellow!50} 6 \\  Dev/Ops & Security Misconfiguration & Un composant est obsolète ou vulnérable & 3 & 3.5 & \\cellcolor{red!50} 10.5 & Ne pas installer des fonctionnalités inutilisées & Utiliser la conteneurisation, une architecture segmentée sûre & 3 & 2 & \\cellcolor{yellow!50} 6 \\  Codeur & Composant Vulnérable & Pas de veille sur failles de sécurité & 2 & 3,5 & \\cellcolor{yellow!50} 7 & Supprimer les dépendances inutiles & Mettre en dépôt une version risquée, lue et reconnue & 1 & 3.5 & \\cellcolor{green!50} 3.5 \\  Codeur & Erreur Gestion Mémoire & Mauvaise utilisation mémoire & 5 & 3 & \\cellcolor{red!50} 15 & Typer les variables, design pattern & Envisager le codage en Go ou Rust & 1 & 3 & \\cellcolor{green!50} 3 \\  Codeur & Authentification & Autoriser les comptes par défaut & 3.6 & 5 & \\cellcolor{red!75} 18 & Livrer, déployer sans compte par défaut & Intégrer des tests de password à la création, au changement & 3 & 3 & \\cellcolor{yellow!50} 9 \\  Dev/Ops & Vol de données bancaires & Mémorisation du numéro de CB & 2 & 8 & \\cellcolor{red!75} 16 & Utiliser une tokenisation de norme sûre comme PCI DSS & Classifier, identifier ou rejeter les données sensibles & 2 & 4 & \\cellcolor{yellow!50} 8 \\  Data Scientist & SR connaissant peu les clients & Connaissance des clients faible & 5 & 3 & \\cellcolor{red!75} 15 & Utiliser la reconnaissance d’image pour les recommandations & Enregistrer les interactions des clients avec les articles & 2 & 2 & \\cellcolor{green!50} 4 \\  Data Scientist & Données articles mal labellisées & Petit nombre de bonnes images & 3 & 3 & \\cellcolor{yellow!75} 9 & Utiliser une technique de data augmentation & Regrouper des centaines d’images par catégories & 2 & 2 & \\cellcolor{green!50} 4 \\  Data Scientist & RGPD trop contraignant & Les photos doivent être anonymisés & 3 & 3 & \\cellcolor{yellow!75} 6 & Effacer les métadonnées des photos & Flouter les visages & 2 & 1 & \\cellcolor{green!50} 2 \\  \\hline \\end{tabular}\n",
      "Group 1 found at 16479-19689: begin{tabular}{p{1cm} p{2cm} p{2cm} p{1.5cm} p{1cm}p{1cm}p{4cm}p{3.3cm} p{1.3cm}p{1cm} p{1cm}} \\hline   \\bf Resp.  & \\bf Accident & \\bf Probables Causes & \\parbox{1.5cm}{\\bf Initial Risk Probabilité} & \\bf Sévérité & \\bf Risk Level & \\bf Actions Preventives& \\bf Reparations & \\parbox{1.5cm}{\\bf Residual Risk Probabilité} &\\bf Sévérité & \\bf Risk Level \\ \\hline  Codeur  & Usurpation d’identité & Stockage en clair du password& 3 & 4 & \\cellcolor{red!50} 12 & Fonction de dérivation, graine et salage du mot de passage & Alerte client pour toute nouvelle connexion IP & 1 & 2 & \\cellcolor{green!50} 2 \\    Codeur  & Injection & Données hostiles & 4 & 4 & \\cellcolor{red!75} 16 & Échappement des chars spéciaux, utilisation de LIMIT en SQL & Stocker données nécessaires, seulement & 3 & 4 & \\cellcolor{yellow!50} 12 \\    Codeur  & Déni de service & Fichier accessible par tous via lien & 5 & 2 & \\cellcolor{yellow!50} 10 &  Tester la performance E/S & Réarchitecturer, optimiser, mettre en cache & 4 & 2 & \\cellcolor{yellow!50} 8 \\  Data Scientist & Intégrité des données & Data sérialisées non sécurisées & 3 & 4 & \\cellcolor{red!50} 12 &  Chiffrer et signer les data échangées & Ségrégation du pipeline, contrôler l’accès au code & 2 & 3 & \\cellcolor{yellow!50} 6 \\  Dev/Ops & Security Misconfiguration & Un composant est obsolète ou vulnérable & 3 & 3.5 & \\cellcolor{red!50} 10.5 & Ne pas installer des fonctionnalités inutilisées & Utiliser la conteneurisation, une architecture segmentée sûre & 3 & 2 & \\cellcolor{yellow!50} 6 \\  Codeur & Composant Vulnérable & Pas de veille sur failles de sécurité & 2 & 3,5 & \\cellcolor{yellow!50} 7 & Supprimer les dépendances inutiles & Mettre en dépôt une version risquée, lue et reconnue & 1 & 3.5 & \\cellcolor{green!50} 3.5 \\  Codeur & Erreur Gestion Mémoire & Mauvaise utilisation mémoire & 5 & 3 & \\cellcolor{red!50} 15 & Typer les variables, design pattern & Envisager le codage en Go ou Rust & 1 & 3 & \\cellcolor{green!50} 3 \\  Codeur & Authentification & Autoriser les comptes par défaut & 3.6 & 5 & \\cellcolor{red!75} 18 & Livrer, déployer sans compte par défaut & Intégrer des tests de password à la création, au changement & 3 & 3 & \\cellcolor{yellow!50} 9 \\  Dev/Ops & Vol de données bancaires & Mémorisation du numéro de CB & 2 & 8 & \\cellcolor{red!75} 16 & Utiliser une tokenisation de norme sûre comme PCI DSS & Classifier, identifier ou rejeter les données sensibles & 2 & 4 & \\cellcolor{yellow!50} 8 \\  Data Scientist & SR connaissant peu les clients & Connaissance des clients faible & 5 & 3 & \\cellcolor{red!75} 15 & Utiliser la reconnaissance d’image pour les recommandations & Enregistrer les interactions des clients avec les articles & 2 & 2 & \\cellcolor{green!50} 4 \\  Data Scientist & Données articles mal labellisées & Petit nombre de bonnes images & 3 & 3 & \\cellcolor{yellow!75} 9 & Utiliser une technique de data augmentation & Regrouper des centaines d’images par catégories & 2 & 2 & \\cellcolor{green!50} 4 \\  Data Scientist & RGPD trop contraignant & Les photos doivent être anonymisés & 3 & 3 & \\cellcolor{yellow!75} 6 & Effacer les métadonnées des photos & Flouter les visages & 2 & 1 & \\cellcolor{green!50} 2 \\  \\hline \\end{tabular}\n",
      "Match 4 was found at 20000-20913: begin{tabular}{|p{2cm}|p{2cm}|p{2cm}| p{2cm} |p{2cm}| p{2cm}|} \\hline \\bf Frequence/ Conséquence & \\bf 1-Très Peu Probable & \\bf 2-Peu Probable & \\bf 3-Occasionnel & \\bf 4-Probable & \\bf 5-Fréquent\\ [10pt] \\hline \\bf 4-Catastrophique &Data\\cellcolor{yellow!50} & Data Leaks\\cellcolor{red!50} & Authentication, Password\\cellcolor{red!50} & Injection\\cellcolor{red!50} &\\cellcolor{red!50} \\ [10pt] \\hline \\bf 3-Critique &\\cellcolor{green!50} & \\cellcolor{yellow!50} & Misconfiguration \\cellcolor{yellow!50} &Integrity \\cellcolor{red!50} & Memory Management\\cellcolor{red!50} \\ [10pt] \\hline \\bf 2-Majeur & \\cellcolor{green!50} & \\cellcolor{green!50} & Vulnerability\\cellcolor{yellow!50} &\\cellcolor{yellow!50} &Service Deny\\cellcolor{red!50} \\ [10pt] \\hline \\bf 1-Mineur & \\cellcolor{green!50} & \\cellcolor{green!50} & \\cellcolor{green!50} &\\cellcolor{yellow!50} &\\cellcolor{yellow!50} \\ [10pt] \\hline \\end{tabular}\n",
      "Group 1 found at 20000-20913: begin{tabular}{|p{2cm}|p{2cm}|p{2cm}| p{2cm} |p{2cm}| p{2cm}|} \\hline \\bf Frequence/ Conséquence & \\bf 1-Très Peu Probable & \\bf 2-Peu Probable & \\bf 3-Occasionnel & \\bf 4-Probable & \\bf 5-Fréquent\\ [10pt] \\hline \\bf 4-Catastrophique &Data\\cellcolor{yellow!50} & Data Leaks\\cellcolor{red!50} & Authentication, Password\\cellcolor{red!50} & Injection\\cellcolor{red!50} &\\cellcolor{red!50} \\ [10pt] \\hline \\bf 3-Critique &\\cellcolor{green!50} & \\cellcolor{yellow!50} & Misconfiguration \\cellcolor{yellow!50} &Integrity \\cellcolor{red!50} & Memory Management\\cellcolor{red!50} \\ [10pt] \\hline \\bf 2-Majeur & \\cellcolor{green!50} & \\cellcolor{green!50} & Vulnerability\\cellcolor{yellow!50} &\\cellcolor{yellow!50} &Service Deny\\cellcolor{red!50} \\ [10pt] \\hline \\bf 1-Mineur & \\cellcolor{green!50} & \\cellcolor{green!50} & \\cellcolor{green!50} &\\cellcolor{yellow!50} &\\cellcolor{yellow!50} \\ [10pt] \\hline \\end{tabular}\n",
      "Match 5 was found at 21179-22091: begin{tabular}{|p{2cm}|p{2cm}|p{2cm}| p{2cm} |p{2cm}| p{2cm}|} \\hline \\bf Frequence/ Conséquence & \\bf 1-Très Peu Probable & \\bf 2-Peu Probable & \\bf 3-Occasionnel & \\bf 4-Probable & \\bf 5-Fréquent\\ [10pt] \\hline \\bf 4-Catastrophique &  Data Leaks \\cellcolor{yellow!50} &\\cellcolor{red!50} & Injection\\cellcolor{red!50} & \\cellcolor{red!50} &\\cellcolor{red!50} \\ [10pt] \\hline \\bf 3-Critique &Memory Management, Vulnerability\\cellcolor{green!50} & \\cellcolor{yellow!50} & Authentication \\cellcolor{yellow!50} & \\cellcolor{red!50} &\\cellcolor{red!50} \\ [10pt] \\hline \\bf 2-Majeur & Password\\cellcolor{green!50} & \\cellcolor{green!50} & Misconfiguration, Integrity\\cellcolor{yellow!50} &Service Deny\\cellcolor{yellow!50} &\\cellcolor{red!50} \\ [10pt] \\hline \\bf 1-Mineur & \\cellcolor{green!50} & \\cellcolor{green!50} & \\cellcolor{green!50} &\\cellcolor{yellow!50} &\\cellcolor{yellow!50} \\ [10pt] \\hline \\end{tabular}\n",
      "Group 1 found at 21179-22091: begin{tabular}{|p{2cm}|p{2cm}|p{2cm}| p{2cm} |p{2cm}| p{2cm}|} \\hline \\bf Frequence/ Conséquence & \\bf 1-Très Peu Probable & \\bf 2-Peu Probable & \\bf 3-Occasionnel & \\bf 4-Probable & \\bf 5-Fréquent\\ [10pt] \\hline \\bf 4-Catastrophique &  Data Leaks \\cellcolor{yellow!50} &\\cellcolor{red!50} & Injection\\cellcolor{red!50} & \\cellcolor{red!50} &\\cellcolor{red!50} \\ [10pt] \\hline \\bf 3-Critique &Memory Management, Vulnerability\\cellcolor{green!50} & \\cellcolor{yellow!50} & Authentication \\cellcolor{yellow!50} & \\cellcolor{red!50} &\\cellcolor{red!50} \\ [10pt] \\hline \\bf 2-Majeur & Password\\cellcolor{green!50} & \\cellcolor{green!50} & Misconfiguration, Integrity\\cellcolor{yellow!50} &Service Deny\\cellcolor{yellow!50} &\\cellcolor{red!50} \\ [10pt] \\hline \\bf 1-Mineur & \\cellcolor{green!50} & \\cellcolor{green!50} & \\cellcolor{green!50} &\\cellcolor{yellow!50} &\\cellcolor{yellow!50} \\ [10pt] \\hline \\end{tabular}\n",
      "Match 6 was found at 22305-22627: begin{tabular}{|p{2cm}|p{10cm}|} \\hline \\bf Colour & \\bf Légende \\ \\hline \\cellcolor{red! 50} & Non-Acceptable Réduction de Risk requis \\ [10pt] \\hline \\cellcolor{yellow! 50} & Acceptable avec ALARP. Considérer plusieurs réduction de risque. \\[10pt] \\hline \\cellcolor{green! 50} & Acceptable. \\ [10pt] \\hline \\end{tabular}\n",
      "Group 1 found at 22305-22627: begin{tabular}{|p{2cm}|p{10cm}|} \\hline \\bf Colour & \\bf Légende \\ \\hline \\cellcolor{red! 50} & Non-Acceptable Réduction de Risk requis \\ [10pt] \\hline \\cellcolor{yellow! 50} & Acceptable avec ALARP. Considérer plusieurs réduction de risque. \\[10pt] \\hline \\cellcolor{green! 50} & Acceptable. \\ [10pt] \\hline \\end{tabular}\n",
      "Match 7 was found at 22808-23165: begin{tabular}{ p{2cm} p{3cm} p{8cm}} \\hline \\bf Rang & \\bf Classet & \\bf Description \\ \\hline 1 & Très peu probable & Une fois tous les 1000 ans ou plus rare \\ 2 & Peu probable & Une fois tous les 100 ans \\ 3 & Occasionnel & Une fois tous les 10 ans\\ 4 & Probable & Une fois par an\\ 5 & Fréquent & Une fois par mois ou plus souvent \\  \\hline  \\end{tabular}\n",
      "Group 1 found at 22808-23165: begin{tabular}{ p{2cm} p{3cm} p{8cm}} \\hline \\bf Rang & \\bf Classet & \\bf Description \\ \\hline 1 & Très peu probable & Une fois tous les 1000 ans ou plus rare \\ 2 & Peu probable & Une fois tous les 100 ans \\ 3 & Occasionnel & Une fois tous les 10 ans\\ 4 & Probable & Une fois par an\\ 5 & Fréquent & Une fois par mois ou plus souvent \\  \\hline  \\end{tabular}\n",
      "Match 8 was found at 23328-24198: begin{tabular}{ p{2cm} p{3cm} p{8cm}} \\hline \\bf Rang & \\bf Classes & \\bf Description \\  \\hline 5 & Inacceptable & Échec résultant en l’abandon du projet.\\ 4 & Catastrophique & Échec résultant en une blessure majeure ou la mort du personnel. \\ 3 & Critique & Échec résultant en une blessure mineure du personnel, exposition du personnel à des produits chimiques dangereux ou à des radiations, un incendie ou le déversement de produit chimique dans l’environnement. \\ 2 & Majeur & Échec résultant en une exposition de faible ampleur du personnel, ou l’activation de l’alarme du système incendie.\\ 1 & Mineur & Échec résultant en un dommage mineur du système mais ne causant pas de blessure au personnel, ne soumettant à aucune sorte d’exposition des opérateurs ou du personnel de service, ou ne rejetant aucun produit chimique dans l’environnement. \\ \\hline \\end{tabular}\n",
      "Group 1 found at 23328-24198: begin{tabular}{ p{2cm} p{3cm} p{8cm}} \\hline \\bf Rang & \\bf Classes & \\bf Description \\  \\hline 5 & Inacceptable & Échec résultant en l’abandon du projet.\\ 4 & Catastrophique & Échec résultant en une blessure majeure ou la mort du personnel. \\ 3 & Critique & Échec résultant en une blessure mineure du personnel, exposition du personnel à des produits chimiques dangereux ou à des radiations, un incendie ou le déversement de produit chimique dans l’environnement. \\ 2 & Majeur & Échec résultant en une exposition de faible ampleur du personnel, ou l’activation de l’alarme du système incendie.\\ 1 & Mineur & Échec résultant en un dommage mineur du système mais ne causant pas de blessure au personnel, ne soumettant à aucune sorte d’exposition des opérateurs ou du personnel de service, ou ne rejetant aucun produit chimique dans l’environnement. \\ \\hline \\end{tabular}\n",
      "Match 9 was found at 25173-26968: begin{tabular}{p{4cm}p{3cm}p{.5cm}}     \\hline     Injection\\cellcolor{red!60}&Risque élevé\\cellcolor{violet!60}&3.8\\cellcolor{red!60}\\     \\multicolumn{3}{c}{\\parbox{7.5cm}{Toutes les données provenant du client doivent être normalisé, pour les isoler de l’interpréteur de commande.\\cellcolor{red!15}}}\\ \t\\     Vulnerability\\cellcolor{blue!60}&Risque faible\\cellcolor{violet!60}&2\\cellcolor{red!60}\\ \\multicolumn{3}{c}{\\parbox{7.5cm}{Limitation du nombre de fonctionnalité, pour réduire les dépendances à surveiller\\cellcolor{blue!15}}}\\      \\     Misconfiguration\\cellcolor{blue!60}&Risque moyen\\cellcolor{violet!60}&3\\cellcolor{red!60}\\ \\multicolumn{3}{c}{\\parbox{7.5cm}{Un composant est vulnérable ou obsolète, la conteneurisation exige un réglage des paramètres de sécurité\\cellcolor{blue!15}}}\\      \\ \tService Deny\\cellcolor{blue!60}&Risque faible\\cellcolor{violet!60}&2\\cellcolor{red!60}\\ \\multicolumn{3}{c}{\\parbox{7.5cm}{Le nombre de requête sera supportable par l’architecture robuste et la mise en cache des opérations coûteuses.\\cellcolor{blue!15}}}\\\\ \tData Leaks\\cellcolor{red!60}&Risque élevé\\cellcolor{violet!60}&4\\cellcolor{red!60}\\ \\multicolumn{3}{c}{\\parbox{7.5cm}{Le paiement par carte bleue ne doit pas utiliser ou stocker de données sensible, en utilisant une norme comme PCI DSS.\\cellcolor{red!15}}}\\\\ \tAuthentication\\cellcolor{red!60}&Risque élevé\\cellcolor{violet!60}&4.5\\cellcolor{red!60}\\ \\multicolumn{3}{c}{\\parbox{7.5cm}{Livraison sans compte par défaut, intégrer des tests et homogénéiser les configurations dev/prod.\\cellcolor{red!15}}}\\\\ \tIntegrity\\cellcolor{red!60}&Risque élevé\\cellcolor{violet!60}&4.3\\cellcolor{red!60}\\ \\multicolumn{3}{c}{\\parbox{7.5cm}{Chiffrer, signer les data échangées, contrôle des accès au pipeline.\\cellcolor{red!15}}}\\\\ \\end{tabular}\n",
      "Group 1 found at 25173-26968: begin{tabular}{p{4cm}p{3cm}p{.5cm}}     \\hline     Injection\\cellcolor{red!60}&Risque élevé\\cellcolor{violet!60}&3.8\\cellcolor{red!60}\\     \\multicolumn{3}{c}{\\parbox{7.5cm}{Toutes les données provenant du client doivent être normalisé, pour les isoler de l’interpréteur de commande.\\cellcolor{red!15}}}\\ \t\\     Vulnerability\\cellcolor{blue!60}&Risque faible\\cellcolor{violet!60}&2\\cellcolor{red!60}\\ \\multicolumn{3}{c}{\\parbox{7.5cm}{Limitation du nombre de fonctionnalité, pour réduire les dépendances à surveiller\\cellcolor{blue!15}}}\\      \\     Misconfiguration\\cellcolor{blue!60}&Risque moyen\\cellcolor{violet!60}&3\\cellcolor{red!60}\\ \\multicolumn{3}{c}{\\parbox{7.5cm}{Un composant est vulnérable ou obsolète, la conteneurisation exige un réglage des paramètres de sécurité\\cellcolor{blue!15}}}\\      \\ \tService Deny\\cellcolor{blue!60}&Risque faible\\cellcolor{violet!60}&2\\cellcolor{red!60}\\ \\multicolumn{3}{c}{\\parbox{7.5cm}{Le nombre de requête sera supportable par l’architecture robuste et la mise en cache des opérations coûteuses.\\cellcolor{blue!15}}}\\\\ \tData Leaks\\cellcolor{red!60}&Risque élevé\\cellcolor{violet!60}&4\\cellcolor{red!60}\\ \\multicolumn{3}{c}{\\parbox{7.5cm}{Le paiement par carte bleue ne doit pas utiliser ou stocker de données sensible, en utilisant une norme comme PCI DSS.\\cellcolor{red!15}}}\\\\ \tAuthentication\\cellcolor{red!60}&Risque élevé\\cellcolor{violet!60}&4.5\\cellcolor{red!60}\\ \\multicolumn{3}{c}{\\parbox{7.5cm}{Livraison sans compte par défaut, intégrer des tests et homogénéiser les configurations dev/prod.\\cellcolor{red!15}}}\\\\ \tIntegrity\\cellcolor{red!60}&Risque élevé\\cellcolor{violet!60}&4.3\\cellcolor{red!60}\\ \\multicolumn{3}{c}{\\parbox{7.5cm}{Chiffrer, signer les data échangées, contrôle des accès au pipeline.\\cellcolor{red!15}}}\\\\ \\end{tabular}\n",
      "Match 10 was found at 28544-34844: begin{tabular}{p{1cm}p{2cm}p{3cm}p{10cm}p{1.75cm}p{1.5cm}p{1.25cm}p{.5cm}p{.5cm}} \\hline  Ref.\t\\cellcolor{gray!25}&Type \\cellcolor{gray!25}& Nom\\cellcolor{gray!25}& Descriptif \\cellcolor{gray!25}& \\bf Estimation \\cellcolor{gray!25} & \\bf Complexité \\cellcolor{gray!25} & \\bf Priorité \\cellcolor{gray!25} & \\bf V1 \\cellcolor{gray!25} & \\bf (V2) \\cellcolor{gray!25}\\ \\hline  \t\\bf A\\cellcolor{gray!50}& \\bf Écran\\cellcolor{gray!50}& \\bf Intro\\cellcolor{gray!50}& \\bf Écran de lancement de l’application\\cellcolor{gray!50}& 4500 €\\cellcolor{gray!50} & \\cellcolor{gray!50} &  \\cellcolor{gray!50} & \\cellcolor{gray!50} &  \\cellcolor{gray!50}\\ \\hline  \t\\bf A1& Fonctionnalité & UX & Demander l’autorisation de démarrer la vidéo et le son & 750 & 1 &  2 &  & \\bf X\\ \\hline  \t\\bf A2& Fonctionnalité & Responsive & Adaptation à toutes les tailles d’écran & 750 & 3 &  5 & \\bf X & \\ \\hline  \t\\bf A3& Fonctionnalité & Web Design & Couleur, logo et design appartenant à la charte graphique & 750 & 3 &  4 & \\bf X & \\ \\hline  \t\\bf A4& Fonctionnalité & Security & Bouton de création, login et interface de connexion sécurisée, à son compte utilisateur & 750 & 5 &  4 &  & \\bf X\\ \\hline  \t\\bf A5& Fonctionnalité & Https & Connexion chiffrée pour les visiteurs & 750 & 5 &  4 & \\bf X & \\ \\hline  \t\\bf A6& Fonctionnalité & Cookie & Demande de l’accord pour le stockage de données personnelles (traitements - RGPD) & 750 & 2 & 5 &  & \\bf X \\ \\hline  \t\\bf B\\cellcolor{gray!50}& \\bf CRUD\\cellcolor{gray!50}& \\bf Parameters\\cellcolor{gray!50}& \\bf Interface de configuration\\cellcolor{gray!50}& 7500 €\\cellcolor{gray!50} & \\cellcolor{gray!50} &  \\cellcolor{gray!50} & \\cellcolor{gray!50} &  \\cellcolor{gray!50}\\ \\hline  \t\\bf B1& Fonctionnalité & Parameters & Gestion des options du comportement de l’application & 1875 & 5 &  4 & \\bf X & \\ \\hline  \t\\bf B2& Fonctionnalité & Changement & Modification des informations personnelles & 1875 & 5 &  4 & \\bf X & \\ \\hline  \t\\bf B3& Fonctionnalité & Notation & Sélection des historiques de navigation retenus par le système de recommandation & 1875 & 5 & 4 &  & \\bf X \\ \\hline  \t\\bf B4& Fonctionnalité & Hash/Salage & Stockage des mots de passe hacher & 1875 & 1 & 4 &  & \\bf X \\ \\hline  \t\\bf C\\cellcolor{gray!50}& \\bf Accessibility\\cellcolor{gray!50}& \\bf W3C\\cellcolor{gray!50}& \\bf Adaptation aux handicaps\\cellcolor{gray!50}& 1500 €\\cellcolor{gray!50} & \\cellcolor{gray!50} &  \\cellcolor{gray!50} & \\cellcolor{gray!50} &  \\cellcolor{gray!50}\\ \\hline  \t\\bf C1& Fonctionnalité & Mal-entendant & Écriture des sous-titres des vidéos et descriptif des scènes & 500 & 1 &  3 &  & \\bf X\\ \\hline  \t\\bf C2& Fonctionnalité & Déficience visuelle & Mode contraste élevé & 500 & 1 &  4 &  & \\bf X \\ \\hline  \t\\bf C3& Fonctionnalité & Non-voyant & Description optionnelle des médias & 500 & 1 &  3 & \\bf X & \\ \\hline  \t\\bf D\\cellcolor{gray!50}& \\bf Translation\\cellcolor{gray!50}& \\bf Living in EU\\cellcolor{gray!50}& \\bf Internationalisation\\cellcolor{gray!50}& 2000 € \\cellcolor{gray!50} & \\cellcolor{gray!50} &  \\cellcolor{gray!50} & \\cellcolor{gray!50} &  \\cellcolor{gray!50}\\ \\hline  \t\\bf D1& Fonctionnalité & Export & Gestion du mode multi-nationalité & 1000 & 2 &  2 &  & \\bf X \\ \\hline  \t\\bf D2& Fonctionnalité & Etna & Gestion de la langue Italienne & 1000 & 2 &  5 & \\bf X & \\ \\hline  \t\\bf E\\cellcolor{gray!50}& \\bf Deep Learning\\cellcolor{gray!50}& \\bf Open AI \\cellcolor{gray!50}& \\bf Data Science et IA\\cellcolor{gray!50}& 10000 €\\cellcolor{gray!50} & \\cellcolor{gray!50} &  \\cellcolor{gray!50} & \\cellcolor{gray!50} &  \\cellcolor{gray!50}\\ \\hline  \t\\bf E1& Fonctionnalité & Nettoyage & Préparation des données pour le DL& 1000 & 1 &  5 & \\bf X &  \\ \\hline  \t\\bf E2& Fonctionnalité & EDA & Orienter la lecture des data sur l’écartement des biais présents dans la base de données & 1500 & 5 &  1 & \\bf X &  \\ \\hline  \t\\bf E3& Fonctionnalité & Modélisation & Entraînement du modèle & 1500 & 1 &  5 & \\bf X &  \\ \\hline  \t\\bf E4& Fonctionnalité & Test & Test du modèle & 1500 & 1 &  5 & \\bf X &  \\ \\hline  \t\\bf E5& Fonctionnalité & Interprétation & Interprétation du modèle & 1500 & 3 &  5 &  & \\bf X \\ \\hline  \t\\bf E6& Fonctionnalité & Dev/Ops & Conservation du code sur GitHub & 1500 & 1 &  3 & \\bf X & \\ \\hline  \t\\bf E7& Fonctionnalité & Éthique & Éditer un communiqué sur l’éthique du modèle & 1500 & 3 &  2 &  & \\bf X \\ \\hline  \t\\bf F\\cellcolor{gray!50}& \\bf UpLoad\\cellcolor{gray!50}& \\bf Recollect \\cellcolor{gray!50}& \\bf Inférence sur nouvelles données\\cellcolor{gray!50}& 3000 €\\cellcolor{gray!50} & \\cellcolor{gray!50} &  \\cellcolor{gray!50} & \\cellcolor{gray!50} &  \\cellcolor{gray!50}\\ \\hline  \t\\bf F1& Fonctionnalité & Stockage & Transmission chiffrée et sauvegarde en blob des photos (> 800Ko, <12Mo par photos) & 750 & 2 & 5 & \\bf X &  \\ \\hline  \t\\bf F2& Fonctionnalité & Table Relationnelle & Transmission (chiffrée) et sauvegarde des noms des photos et de leurs références (stats) & 750 & 2 & 5 & \\bf X &  \\ \\hline  \t\\bf F3& Fonctionnalité & Resolution & Retouche pics en vue d’utilisation par le modèle (harmonisation de la résolution/format) & 750 & 2 & 4 & \\bf X &  \\ \\hline  \t\\bf F4& Fonctionnalité & Backup & Duplication de la base de données sur deux régions, au minimum & 750 & 3 & 3 &  & \\bf X \\ \\hline  \t\\bf G\\cellcolor{gray!50}& \\bf Deployment\\cellcolor{gray!50}& \\bf Cloud \\cellcolor{gray!50}& \\bf Disponibilité du service\\cellcolor{gray!50}& 10000 €\\cellcolor{gray!50} & \\cellcolor{gray!50} &  \\cellcolor{gray!50} & \\cellcolor{gray!50} &  \\cellcolor{gray!50}\\ \\hline  \t\\bf G1& Fonctionnalité & PyTest & Test de Déploiement en Dev/Ops GitHub Action & 2000 & 4 & 5 & \\bf X &  \\ \\hline  \t\\bf G1& Fonctionnalité & Kubernetes & Déploiement en pod avec Kubernetes & 2000 & 4 & 5 & \\bf X &  \\ \\hline  \t\\bf G2& Fonctionnalité & Pods & Connexion des pods d’application et de base de données & 2000 & 3 & 5 & \\bf X &  \\ \\hline  \t\\bf G3& Fonctionnalité & Redondance du service & Déploiement au plus près des clients & 2000 & 1 & 5 &  & \\bf X \\ \\hline  \t\\bf G4& Fonctionnalité & Adaptation & Ajustement du nombre de serveur en fonction du nombre d’utilisateur & 2000 & 2 & 5 & & \\bf X \\ \\hline  \t\\bf G5& Fonctionnalité & Monitoring & Remonté d’alerte au problème à la moindre prédiction, connexion, ou téléversement & 2000 & 2 & 5 & & \\bf X \\  \\hline \\end{tabular}\n",
      "Group 1 found at 28544-34844: begin{tabular}{p{1cm}p{2cm}p{3cm}p{10cm}p{1.75cm}p{1.5cm}p{1.25cm}p{.5cm}p{.5cm}} \\hline  Ref.\t\\cellcolor{gray!25}&Type \\cellcolor{gray!25}& Nom\\cellcolor{gray!25}& Descriptif \\cellcolor{gray!25}& \\bf Estimation \\cellcolor{gray!25} & \\bf Complexité \\cellcolor{gray!25} & \\bf Priorité \\cellcolor{gray!25} & \\bf V1 \\cellcolor{gray!25} & \\bf (V2) \\cellcolor{gray!25}\\ \\hline  \t\\bf A\\cellcolor{gray!50}& \\bf Écran\\cellcolor{gray!50}& \\bf Intro\\cellcolor{gray!50}& \\bf Écran de lancement de l’application\\cellcolor{gray!50}& 4500 €\\cellcolor{gray!50} & \\cellcolor{gray!50} &  \\cellcolor{gray!50} & \\cellcolor{gray!50} &  \\cellcolor{gray!50}\\ \\hline  \t\\bf A1& Fonctionnalité & UX & Demander l’autorisation de démarrer la vidéo et le son & 750 & 1 &  2 &  & \\bf X\\ \\hline  \t\\bf A2& Fonctionnalité & Responsive & Adaptation à toutes les tailles d’écran & 750 & 3 &  5 & \\bf X & \\ \\hline  \t\\bf A3& Fonctionnalité & Web Design & Couleur, logo et design appartenant à la charte graphique & 750 & 3 &  4 & \\bf X & \\ \\hline  \t\\bf A4& Fonctionnalité & Security & Bouton de création, login et interface de connexion sécurisée, à son compte utilisateur & 750 & 5 &  4 &  & \\bf X\\ \\hline  \t\\bf A5& Fonctionnalité & Https & Connexion chiffrée pour les visiteurs & 750 & 5 &  4 & \\bf X & \\ \\hline  \t\\bf A6& Fonctionnalité & Cookie & Demande de l’accord pour le stockage de données personnelles (traitements - RGPD) & 750 & 2 & 5 &  & \\bf X \\ \\hline  \t\\bf B\\cellcolor{gray!50}& \\bf CRUD\\cellcolor{gray!50}& \\bf Parameters\\cellcolor{gray!50}& \\bf Interface de configuration\\cellcolor{gray!50}& 7500 €\\cellcolor{gray!50} & \\cellcolor{gray!50} &  \\cellcolor{gray!50} & \\cellcolor{gray!50} &  \\cellcolor{gray!50}\\ \\hline  \t\\bf B1& Fonctionnalité & Parameters & Gestion des options du comportement de l’application & 1875 & 5 &  4 & \\bf X & \\ \\hline  \t\\bf B2& Fonctionnalité & Changement & Modification des informations personnelles & 1875 & 5 &  4 & \\bf X & \\ \\hline  \t\\bf B3& Fonctionnalité & Notation & Sélection des historiques de navigation retenus par le système de recommandation & 1875 & 5 & 4 &  & \\bf X \\ \\hline  \t\\bf B4& Fonctionnalité & Hash/Salage & Stockage des mots de passe hacher & 1875 & 1 & 4 &  & \\bf X \\ \\hline  \t\\bf C\\cellcolor{gray!50}& \\bf Accessibility\\cellcolor{gray!50}& \\bf W3C\\cellcolor{gray!50}& \\bf Adaptation aux handicaps\\cellcolor{gray!50}& 1500 €\\cellcolor{gray!50} & \\cellcolor{gray!50} &  \\cellcolor{gray!50} & \\cellcolor{gray!50} &  \\cellcolor{gray!50}\\ \\hline  \t\\bf C1& Fonctionnalité & Mal-entendant & Écriture des sous-titres des vidéos et descriptif des scènes & 500 & 1 &  3 &  & \\bf X\\ \\hline  \t\\bf C2& Fonctionnalité & Déficience visuelle & Mode contraste élevé & 500 & 1 &  4 &  & \\bf X \\ \\hline  \t\\bf C3& Fonctionnalité & Non-voyant & Description optionnelle des médias & 500 & 1 &  3 & \\bf X & \\ \\hline  \t\\bf D\\cellcolor{gray!50}& \\bf Translation\\cellcolor{gray!50}& \\bf Living in EU\\cellcolor{gray!50}& \\bf Internationalisation\\cellcolor{gray!50}& 2000 € \\cellcolor{gray!50} & \\cellcolor{gray!50} &  \\cellcolor{gray!50} & \\cellcolor{gray!50} &  \\cellcolor{gray!50}\\ \\hline  \t\\bf D1& Fonctionnalité & Export & Gestion du mode multi-nationalité & 1000 & 2 &  2 &  & \\bf X \\ \\hline  \t\\bf D2& Fonctionnalité & Etna & Gestion de la langue Italienne & 1000 & 2 &  5 & \\bf X & \\ \\hline  \t\\bf E\\cellcolor{gray!50}& \\bf Deep Learning\\cellcolor{gray!50}& \\bf Open AI \\cellcolor{gray!50}& \\bf Data Science et IA\\cellcolor{gray!50}& 10000 €\\cellcolor{gray!50} & \\cellcolor{gray!50} &  \\cellcolor{gray!50} & \\cellcolor{gray!50} &  \\cellcolor{gray!50}\\ \\hline  \t\\bf E1& Fonctionnalité & Nettoyage & Préparation des données pour le DL& 1000 & 1 &  5 & \\bf X &  \\ \\hline  \t\\bf E2& Fonctionnalité & EDA & Orienter la lecture des data sur l’écartement des biais présents dans la base de données & 1500 & 5 &  1 & \\bf X &  \\ \\hline  \t\\bf E3& Fonctionnalité & Modélisation & Entraînement du modèle & 1500 & 1 &  5 & \\bf X &  \\ \\hline  \t\\bf E4& Fonctionnalité & Test & Test du modèle & 1500 & 1 &  5 & \\bf X &  \\ \\hline  \t\\bf E5& Fonctionnalité & Interprétation & Interprétation du modèle & 1500 & 3 &  5 &  & \\bf X \\ \\hline  \t\\bf E6& Fonctionnalité & Dev/Ops & Conservation du code sur GitHub & 1500 & 1 &  3 & \\bf X & \\ \\hline  \t\\bf E7& Fonctionnalité & Éthique & Éditer un communiqué sur l’éthique du modèle & 1500 & 3 &  2 &  & \\bf X \\ \\hline  \t\\bf F\\cellcolor{gray!50}& \\bf UpLoad\\cellcolor{gray!50}& \\bf Recollect \\cellcolor{gray!50}& \\bf Inférence sur nouvelles données\\cellcolor{gray!50}& 3000 €\\cellcolor{gray!50} & \\cellcolor{gray!50} &  \\cellcolor{gray!50} & \\cellcolor{gray!50} &  \\cellcolor{gray!50}\\ \\hline  \t\\bf F1& Fonctionnalité & Stockage & Transmission chiffrée et sauvegarde en blob des photos (> 800Ko, <12Mo par photos) & 750 & 2 & 5 & \\bf X &  \\ \\hline  \t\\bf F2& Fonctionnalité & Table Relationnelle & Transmission (chiffrée) et sauvegarde des noms des photos et de leurs références (stats) & 750 & 2 & 5 & \\bf X &  \\ \\hline  \t\\bf F3& Fonctionnalité & Resolution & Retouche pics en vue d’utilisation par le modèle (harmonisation de la résolution/format) & 750 & 2 & 4 & \\bf X &  \\ \\hline  \t\\bf F4& Fonctionnalité & Backup & Duplication de la base de données sur deux régions, au minimum & 750 & 3 & 3 &  & \\bf X \\ \\hline  \t\\bf G\\cellcolor{gray!50}& \\bf Deployment\\cellcolor{gray!50}& \\bf Cloud \\cellcolor{gray!50}& \\bf Disponibilité du service\\cellcolor{gray!50}& 10000 €\\cellcolor{gray!50} & \\cellcolor{gray!50} &  \\cellcolor{gray!50} & \\cellcolor{gray!50} &  \\cellcolor{gray!50}\\ \\hline  \t\\bf G1& Fonctionnalité & PyTest & Test de Déploiement en Dev/Ops GitHub Action & 2000 & 4 & 5 & \\bf X &  \\ \\hline  \t\\bf G1& Fonctionnalité & Kubernetes & Déploiement en pod avec Kubernetes & 2000 & 4 & 5 & \\bf X &  \\ \\hline  \t\\bf G2& Fonctionnalité & Pods & Connexion des pods d’application et de base de données & 2000 & 3 & 5 & \\bf X &  \\ \\hline  \t\\bf G3& Fonctionnalité & Redondance du service & Déploiement au plus près des clients & 2000 & 1 & 5 &  & \\bf X \\ \\hline  \t\\bf G4& Fonctionnalité & Adaptation & Ajustement du nombre de serveur en fonction du nombre d’utilisateur & 2000 & 2 & 5 & & \\bf X \\ \\hline  \t\\bf G5& Fonctionnalité & Monitoring & Remonté d’alerte au problème à la moindre prédiction, connexion, ou téléversement & 2000 & 2 & 5 & & \\bf X \\  \\hline \\end{tabular}\n",
      "Match 11 was found at 36286-41045: begin{tabular}{p{3cm}p{3cm}p{4cm}p{4cm}p{4cm}p{4cm}} \\hline  Titre\t\\cellcolor{gray!50}&En tant que \\cellcolor{gray!50}& Je veux\\dots\\cellcolor{gray!50}&  \\dots afin de\\dots\\cellcolor{gray!50}& \\bf Pondération\\cellcolor{gray!50} & \\bf Données nécessaires\\cellcolor{gray!50} \\ \\hline  Connexion via une adresse mail&  Utilisateur de l'application &   pouvoir me connecter à mon compte sur l'application mobile en utilisant une adresse mail& je peux voir les informations me concernant (infos personnelles, photos prises, articles suggérés, ...)&    A définir en relatif par rapport aux autres user stories en donnant un chiffre parmi : 1, 3, 5, 8, 13, 20, 50, 100.& {•} adresse mail utilisateur  {•}  mot de passe  \\ \\hline   Conserver le mot de passe haché \\cellcolor{gray!15} & Administrateur de Base de données \\cellcolor{gray!15}& Ne pas conserver le mot de passe en clair \\cellcolor{gray!15}&  Réduire le risque de vol d’identité en cas de piratage  \\cellcolor{gray!15}&  L’utilisation d’un salage et d’une graine lors du hachage augmente la sécurité \\cellcolor{gray!15}& mot de passe, sel, graine\\cellcolor{gray!15}\\ \\hline   Flouter les visages des utilisateurs & Data Scientist / Utilisateur de l’application & Ne pas conserver l’image pouvant servir à la reconnaissance faciale & Ne pas utiliser cette données, car inutile pour le traitement & Les données d’entraînement peuvent être transformer identiquement & Récolte d’éléments vestimentaires avec visage flouté\\ \\hline   Création de recommandation d’achat à partir des cliques \\cellcolor{gray!15}& UXDesigner / Utilisateur de l’application \\cellcolor{gray!15}& Conserver des historiques de navigations pour faire du neuroprofilage  \\cellcolor{gray!15}& Proposer les articles susceptibles de l’intéresser sur la base de son historique de navigation.  \\cellcolor{gray!15}& Le client a un droit de sélectionner ce qu’il veut que la plateforme conserve comme données d’historique de navigation \\cellcolor{gray!15}& L’historique de navigation, relié au pseudo du client. \\cellcolor{gray!15}\\ \\hline   Création d’un panier d’achat & UXDesigner / Utilisateur de l’application & Conserver une liste d’achats souhaités n & Valider son panier après la phase shopping, au moment du passage en caisse & Ce sont des données peu sensible, modifiable à tout moment par l’utilisateur, mais conserver de manière illimité, comme un service pour l’utilisateur. & Sélection d’article lié au pseudo de l’utilisateur \\ \\hline   Création d’une liste d’envie \\cellcolor{gray!15}& UXDesigner / Utilisateur de l’application \\cellcolor{gray!15}& Conserver une liste d’envie \\cellcolor{gray!15}& Garder des idées d’achats pour une occasion à horizon plus lointaine \\cellcolor{gray!15}& Ce sont des données peu sensible, modifiable à tout moment par l’utilisateur, mais conserver de manière illimité, comme un service pour l’utilisateur. \\cellcolor{gray!15}& Sélection d’article lié au pseudo de l’utilisateur \\cellcolor{gray!15}\\ \\hline   Système de notation des prédictions & Data Scientist / Utilisateur de l’application & L’utilisateur donne une note ou un like/dislike ou un swipe sur les vêtements proposés & Améliorer les prédictions en connaissant mieux les goûts des utilisateurs (Matrice Users/Items) & Durée de stockage définie par l’utilisateur sur 0, 1, 2 ou 3 ans. & Pseudo utilisateur, Articles, Notes \\ \\hline   Système d’association de produit \\cellcolor{gray!15}& Data Scientist / Utilisateur de l’application \\cellcolor{gray!15}& L’utilisateur reçoit des recommandations d’articles similaire à ceux qui sont prédits \\cellcolor{gray!15}& Augmenter le nombre d’articles similaire (Matrice Items/Items) \\cellcolor{gray!15}& La base de données des articles en vente doit pouvoir être catégorisé en hiérarchie de produit. \\cellcolor{gray!15}& Les informations sur les produits, photos, descriptifs. \\cellcolor{gray!15}\\ \\hline   Création d’une interface & Web Design / Utilisateur de l’application & Une interface intuitive avec une charte graphique de la marque & Offrir une bonne expérience utilisateur & Les cookies doivent être autorisées par l’utilisateur & Cookies, IP, Browser fingerprints, stockés maximum 1 an si l’utilisateur autorise les CGU. \\ \\hline   Détection d’une connexion depuis un nouvel appareil \\cellcolor{gray!15}& Security / Utilisateur de l’application \\cellcolor{gray!15}& Sécuriser l’application pour l’utilisateur\\cellcolor{gray!15} & Éviter / Alerter en cas de piratage \\cellcolor{gray!15}& Les données ne concerne pas l’identité de la personne directement mais les supports numériques utilisés pour se connecter. \\cellcolor{gray!15}& Les données conservés sont l’adresse Mac de la machine, le nom du système OS, le type de navigateur web. \\cellcolor{gray!15}\\    \\hline \\end{tabular}\n",
      "Group 1 found at 36286-41045: begin{tabular}{p{3cm}p{3cm}p{4cm}p{4cm}p{4cm}p{4cm}} \\hline  Titre\t\\cellcolor{gray!50}&En tant que \\cellcolor{gray!50}& Je veux\\dots\\cellcolor{gray!50}&  \\dots afin de\\dots\\cellcolor{gray!50}& \\bf Pondération\\cellcolor{gray!50} & \\bf Données nécessaires\\cellcolor{gray!50} \\ \\hline  Connexion via une adresse mail&  Utilisateur de l'application &   pouvoir me connecter à mon compte sur l'application mobile en utilisant une adresse mail& je peux voir les informations me concernant (infos personnelles, photos prises, articles suggérés, ...)&    A définir en relatif par rapport aux autres user stories en donnant un chiffre parmi : 1, 3, 5, 8, 13, 20, 50, 100.& {•} adresse mail utilisateur  {•}  mot de passe  \\ \\hline   Conserver le mot de passe haché \\cellcolor{gray!15} & Administrateur de Base de données \\cellcolor{gray!15}& Ne pas conserver le mot de passe en clair \\cellcolor{gray!15}&  Réduire le risque de vol d’identité en cas de piratage  \\cellcolor{gray!15}&  L’utilisation d’un salage et d’une graine lors du hachage augmente la sécurité \\cellcolor{gray!15}& mot de passe, sel, graine\\cellcolor{gray!15}\\ \\hline   Flouter les visages des utilisateurs & Data Scientist / Utilisateur de l’application & Ne pas conserver l’image pouvant servir à la reconnaissance faciale & Ne pas utiliser cette données, car inutile pour le traitement & Les données d’entraînement peuvent être transformer identiquement & Récolte d’éléments vestimentaires avec visage flouté\\ \\hline   Création de recommandation d’achat à partir des cliques \\cellcolor{gray!15}& UXDesigner / Utilisateur de l’application \\cellcolor{gray!15}& Conserver des historiques de navigations pour faire du neuroprofilage  \\cellcolor{gray!15}& Proposer les articles susceptibles de l’intéresser sur la base de son historique de navigation.  \\cellcolor{gray!15}& Le client a un droit de sélectionner ce qu’il veut que la plateforme conserve comme données d’historique de navigation \\cellcolor{gray!15}& L’historique de navigation, relié au pseudo du client. \\cellcolor{gray!15}\\ \\hline   Création d’un panier d’achat & UXDesigner / Utilisateur de l’application & Conserver une liste d’achats souhaités n & Valider son panier après la phase shopping, au moment du passage en caisse & Ce sont des données peu sensible, modifiable à tout moment par l’utilisateur, mais conserver de manière illimité, comme un service pour l’utilisateur. & Sélection d’article lié au pseudo de l’utilisateur \\ \\hline   Création d’une liste d’envie \\cellcolor{gray!15}& UXDesigner / Utilisateur de l’application \\cellcolor{gray!15}& Conserver une liste d’envie \\cellcolor{gray!15}& Garder des idées d’achats pour une occasion à horizon plus lointaine \\cellcolor{gray!15}& Ce sont des données peu sensible, modifiable à tout moment par l’utilisateur, mais conserver de manière illimité, comme un service pour l’utilisateur. \\cellcolor{gray!15}& Sélection d’article lié au pseudo de l’utilisateur \\cellcolor{gray!15}\\ \\hline   Système de notation des prédictions & Data Scientist / Utilisateur de l’application & L’utilisateur donne une note ou un like/dislike ou un swipe sur les vêtements proposés & Améliorer les prédictions en connaissant mieux les goûts des utilisateurs (Matrice Users/Items) & Durée de stockage définie par l’utilisateur sur 0, 1, 2 ou 3 ans. & Pseudo utilisateur, Articles, Notes \\ \\hline   Système d’association de produit \\cellcolor{gray!15}& Data Scientist / Utilisateur de l’application \\cellcolor{gray!15}& L’utilisateur reçoit des recommandations d’articles similaire à ceux qui sont prédits \\cellcolor{gray!15}& Augmenter le nombre d’articles similaire (Matrice Items/Items) \\cellcolor{gray!15}& La base de données des articles en vente doit pouvoir être catégorisé en hiérarchie de produit. \\cellcolor{gray!15}& Les informations sur les produits, photos, descriptifs. \\cellcolor{gray!15}\\ \\hline   Création d’une interface & Web Design / Utilisateur de l’application & Une interface intuitive avec une charte graphique de la marque & Offrir une bonne expérience utilisateur & Les cookies doivent être autorisées par l’utilisateur & Cookies, IP, Browser fingerprints, stockés maximum 1 an si l’utilisateur autorise les CGU. \\ \\hline   Détection d’une connexion depuis un nouvel appareil \\cellcolor{gray!15}& Security / Utilisateur de l’application \\cellcolor{gray!15}& Sécuriser l’application pour l’utilisateur\\cellcolor{gray!15} & Éviter / Alerter en cas de piratage \\cellcolor{gray!15}& Les données ne concerne pas l’identité de la personne directement mais les supports numériques utilisés pour se connecter. \\cellcolor{gray!15}& Les données conservés sont l’adresse Mac de la machine, le nom du système OS, le type de navigateur web. \\cellcolor{gray!15}\\    \\hline \\end{tabular}\n"
     ]
    }
   ],
   "source": [
    "group = []\n",
    "regex = r\"(begin{tabular}.*?end{tabular})\"\n",
    "\n",
    "test_str = ' '.join(d)\n",
    "\n",
    "matches = re.finditer(regex, test_str, re.MULTILINE)\n",
    "\n",
    "for matchNum, match in enumerate(matches, start=1):\n",
    "    \n",
    "    print (\"Match {matchNum} was found at {start}-{end}: {match}\".format(matchNum = matchNum, start = match.start(), end = match.end(), match = match.group()))\n",
    "    \n",
    "    for groupNum in range(0, len(match.groups())):\n",
    "        groupNum = groupNum + 1\n",
    "        group.append(match.group(groupNum))\n",
    "        print (\"Group {groupNum} found at {start}-{end}: {group}\".format(groupNum = groupNum, start = match.start(groupNum), end = match.end(groupNum), group = match.group(groupNum)))"
   ]
  },
  {
   "cell_type": "markdown",
   "metadata": {},
   "source": [
    "Nous obtenons 11 tableaux"
   ]
  },
  {
   "cell_type": "code",
   "execution_count": 4,
   "metadata": {},
   "outputs": [
    {
     "data": {
      "text/plain": [
       "11"
      ]
     },
     "execution_count": 4,
     "metadata": {},
     "output_type": "execute_result"
    }
   ],
   "source": [
    "len(group)"
   ]
  },
  {
   "cell_type": "markdown",
   "metadata": {},
   "source": [
    "# Tableau Périmètre fonctionnel"
   ]
  },
  {
   "cell_type": "code",
   "execution_count": 5,
   "metadata": {},
   "outputs": [],
   "source": [
    "data = group[9]"
   ]
  },
  {
   "cell_type": "code",
   "execution_count": 6,
   "metadata": {},
   "outputs": [],
   "source": [
    "data = re.findall(r'\\\\hline.*\\\\hline', data)[0]"
   ]
  },
  {
   "cell_type": "code",
   "execution_count": 7,
   "metadata": {},
   "outputs": [
    {
     "data": {
      "text/plain": [
       "'\\\\hline  Ref.\\t\\\\cellcolor{gray!25}&Type \\\\cellcolor{gray!25}& Nom\\\\cellcolor{gray!25}& Descriptif \\\\cellcolor{gray!25}& \\\\bf Estimation \\\\cellcolor{gray!25} & \\\\bf Complexité \\\\cellcolor{gray!25} & \\\\bf Priorit'"
      ]
     },
     "execution_count": 7,
     "metadata": {},
     "output_type": "execute_result"
    }
   ],
   "source": [
    "data[:200]"
   ]
  },
  {
   "cell_type": "markdown",
   "metadata": {},
   "source": [
    "Nous extrayons manuellement le tableau du fichier latex."
   ]
  },
  {
   "cell_type": "markdown",
   "metadata": {},
   "source": [
    "Nous remplaçons quelques éléments de formatage."
   ]
  },
  {
   "cell_type": "code",
   "execution_count": 8,
   "metadata": {},
   "outputs": [],
   "source": [
    "d = data.replace('\\\\cellcolor{gray!50}', '')\\\n",
    ".replace('\\\\cellcolor{gray!15}', '')\\\n",
    ".replace('\\\\cellcolor{gray!25}', '')\\\n",
    ".replace('\\\\bf', ' ')\\\n",
    ".replace('\\\\dots', '...')\\\n",
    ".replace('\\\\hline', '').replace('\\n',' ')\\\n",
    ".replace('\\t', ' ').replace('\\\\ ', ' \\n ').replace('&', ' \\t ')\n"
   ]
  },
  {
   "cell_type": "code",
   "execution_count": 9,
   "metadata": {},
   "outputs": [],
   "source": [
    "# Nous sauvegardons dans un format csv\n",
    "with open('per_funct.csv', 'w') as f:\n",
    "    f.writelines(d.encode('utf-8').decode())"
   ]
  },
  {
   "cell_type": "markdown",
   "metadata": {},
   "source": [
    "Nous enregistrons le csv sous forme de tableur excel 2010 \"xlsx\", afin de pouvoir utiliser la bibliothèque openpyxl."
   ]
  },
  {
   "cell_type": "code",
   "execution_count": 10,
   "metadata": {},
   "outputs": [],
   "source": [
    "pd.read_csv('per_funct.csv', sep='\\t').to_excel('per_funct.xlsx')"
   ]
  },
  {
   "cell_type": "code",
   "execution_count": 11,
   "metadata": {},
   "outputs": [
    {
     "name": "stdout",
     "output_type": "stream",
     "text": [
      "      A1 \n"
     ]
    }
   ],
   "source": [
    "wb = load_workbook(filename = 'per_funct.xlsx')\n",
    "sheet_ranges = wb['Sheet1']\n",
    "print(sheet_ranges['B3'].value)"
   ]
  },
  {
   "cell_type": "markdown",
   "metadata": {},
   "source": [
    "Nous créons les couleurs de fond que nous utiliserons dans le fichier"
   ]
  },
  {
   "cell_type": "code",
   "execution_count": 12,
   "metadata": {},
   "outputs": [],
   "source": [
    "grayLightFill = PatternFill(start_color='e0dede',\n",
    "                   end_color='e0dede',\n",
    "                   fill_type='solid')\n",
    "grayDarkFill = PatternFill(start_color='a7a7a7',\n",
    "                   end_color='a7a7a7',\n",
    "                   fill_type='solid')\n",
    "blackFill = PatternFill(start_color='404040',\n",
    "                   end_color='404040',\n",
    "                   fill_type='solid')"
   ]
  },
  {
   "cell_type": "markdown",
   "metadata": {},
   "source": [
    "Nous appliquons le formatage."
   ]
  },
  {
   "cell_type": "code",
   "execution_count": 13,
   "metadata": {},
   "outputs": [],
   "source": [
    "for cell in sheet_ranges['B1:J1']:\n",
    "    for x in range(len(cell)):\n",
    "        cell[x].fill = blackFill\n",
    "        cell[x].font = Font(color=\"FFFFFF\", bold=True) \n",
    "n = 2\n",
    "for cell1 in sheet_ranges['B2:B40']:\n",
    "    text = str(cell1[0].value).rstrip().lstrip()\n",
    "    if text.isalpha():\n",
    "        for cell in sheet_ranges['B' + str(n) + ':J' + str(n)]:\n",
    "            for x in range(len(cell)):\n",
    "                cell[x].fill = grayDarkFill\n",
    "    else:\n",
    "        for cell in sheet_ranges['B' + str(n) + ':J' + str(n)]:\n",
    "            for x in range(len(cell)):\n",
    "                cell[x].fill = grayLightFill\n",
    "    n += 1\n"
   ]
  },
  {
   "cell_type": "code",
   "execution_count": 14,
   "metadata": {},
   "outputs": [],
   "source": [
    "# Code pour détruire la colonne d’index supplémentaire issue du cadre de données.\n",
    "sheet_ranges.delete_cols(1, 1)\n",
    "sheet_ranges.title = \"Tasks\""
   ]
  },
  {
   "cell_type": "code",
   "execution_count": 15,
   "metadata": {},
   "outputs": [],
   "source": [
    "wb.save(filename = 'dest_functional_perimeter.xlsx')"
   ]
  },
  {
   "cell_type": "markdown",
   "metadata": {},
   "source": [
    "# Tableau BackLog\n",
    "Nous répétons l’opération pour le tableau suivant."
   ]
  },
  {
   "cell_type": "code",
   "execution_count": 16,
   "metadata": {},
   "outputs": [],
   "source": [
    "data = group[10]"
   ]
  },
  {
   "cell_type": "code",
   "execution_count": 17,
   "metadata": {},
   "outputs": [],
   "source": [
    "data = re.findall(r'\\\\hline.*\\\\hline', data)[0]"
   ]
  },
  {
   "cell_type": "code",
   "execution_count": 18,
   "metadata": {},
   "outputs": [
    {
     "data": {
      "text/plain": [
       "\"\\\\hline  Titre\\t\\\\cellcolor{gray!50}&En tant que \\\\cellcolor{gray!50}& Je veux\\\\dots\\\\cellcolor{gray!50}&  \\\\dots afin de\\\\dots\\\\cellcolor{gray!50}& \\\\bf Pondération\\\\cellcolor{gray!50} & \\\\bf Données nécessaires\\\\cellcolor{gray!50} \\\\ \\\\hline  Connexion via une adresse mail&  Utilisateur de l'application &   pouvoir me connecter à mon compte sur l'application mobile en utilisant une adresse mail& je peux voir les informations me concernant (infos personnelles, photos prises, articles suggérés, ...)&    A définir en relatif par rapport aux autres user stories en donnant un chiffre parmi : 1, 3, 5, 8, 13, 20, 50, 100.& {•} adresse mail utilisateur  {•}  mot de passe  \\\\ \\\\hline   Conserver le mot de passe haché \\\\cellcolor{gray!15} & Administrateur de Base de données \\\\cellcolor{gray!15}& Ne pas conserver le mot de passe en clair \\\\cellcolor{gray!15}&  Réduire le risque de vol d’identité en cas de piratage  \\\\cellcolor{gray!15}&  L’utilisation d’un salage et d’une graine lors du hachage augmente la sécurité \\\\cellcolor{gray!15}& mot de passe, sel, graine\\\\cellcolor{gray!15}\\\\ \\\\hline   Flouter les visages des utilisateurs & Data Scientist / Utilisateur de l’application & Ne pas conserver l’image pouvant servir à la reconnaissance faciale & Ne pas utiliser cette données, car inutile pour le traitement & Les données d’entraînement peuvent être transformer identiquement & Récolte d’éléments vestimentaires avec visage flouté\\\\ \\\\hline   Création de recommandation d’achat à partir des cliques \\\\cellcolor{gray!15}& UXDesigner / Utilisateur de l’application \\\\cellcolor{gray!15}& Conserver des historiques de navigations pour faire du neuroprofilage  \\\\cellcolor{gray!15}& Proposer les articles susceptibles de l’intéresser sur la base de son historique de navigation.  \\\\cellcolor{gray!15}& Le client a un droit de sélectionner ce qu’il veut que la plateforme conserve comme données d’historique de navigation \\\\cellcolor{gray!15}& L’historique de navigation, relié au pseudo du client. \\\\cellcolor{gray!15}\\\\ \\\\hline   Création d’un panier d’achat & UXDesigner / Utilisateur de l’application & Conserver une liste d’achats souhaités n & Valider son panier après la phase shopping, au moment du passage en caisse & Ce sont des données peu sensible, modifiable à tout moment par l’utilisateur, mais conserver de manière illimité, comme un service pour l’utilisateur. & Sélection d’article lié au pseudo de l’utilisateur \\\\ \\\\hline   Création d’une liste d’envie \\\\cellcolor{gray!15}& UXDesigner / Utilisateur de l’application \\\\cellcolor{gray!15}& Conserver une liste d’envie \\\\cellcolor{gray!15}& Garder des idées d’achats pour une occasion à horizon plus lointaine \\\\cellcolor{gray!15}& Ce sont des données peu sensible, modifiable à tout moment par l’utilisateur, mais conserver de manière illimité, comme un service pour l’utilisateur. \\\\cellcolor{gray!15}& Sélection d’article lié au pseudo de l’utilisateur \\\\cellcolor{gray!15}\\\\ \\\\hline   Système de notation des prédictions & Data Scientist / Utilisateur de l’application & L’utilisateur donne une note ou un like/dislike ou un swipe sur les vêtements proposés & Améliorer les prédictions en connaissant mieux les goûts des utilisateurs (Matrice Users/Items) & Durée de stockage définie par l’utilisateur sur 0, 1, 2 ou 3 ans. & Pseudo utilisateur, Articles, Notes \\\\ \\\\hline   Système d’association de produit \\\\cellcolor{gray!15}& Data Scientist / Utilisateur de l’application \\\\cellcolor{gray!15}& L’utilisateur reçoit des recommandations d’articles similaire à ceux qui sont prédits \\\\cellcolor{gray!15}& Augmenter le nombre d’articles similaire (Matrice Items/Items) \\\\cellcolor{gray!15}& La base de données des articles en vente doit pouvoir être catégorisé en hiérarchie de produit. \\\\cellcolor{gray!15}& Les informations sur les produits, photos, descriptifs. \\\\cellcolor{gray!15}\\\\ \\\\hline   Création d’une interface & Web Design / Utilisateur de l’application & Une interface intuitive avec une charte graphique de la marque & Offrir une bonne expérience utilisateur & Les cookies doivent être autorisées par l’utilisateur & Cookies, IP, Browser fingerprints, stockés maximum 1 an si l’utilisateur autorise les CGU. \\\\ \\\\hline   Détection d’une connexion depuis un nouvel appareil \\\\cellcolor{gray!15}& Security / Utilisateur de l’application \\\\cellcolor{gray!15}& Sécuriser l’application pour l’utilisateur\\\\cellcolor{gray!15} & Éviter / Alerter en cas de piratage \\\\cellcolor{gray!15}& Les données ne concerne pas l’identité de la personne directement mais les supports numériques utilisés pour se connecter. \\\\cellcolor{gray!15}& Les données conservés sont l’adresse Mac de la machine, le nom du système OS, le type de navigateur web. \\\\cellcolor{gray!15}\\\\    \\\\hline\""
      ]
     },
     "execution_count": 18,
     "metadata": {},
     "output_type": "execute_result"
    }
   ],
   "source": [
    "data"
   ]
  },
  {
   "cell_type": "code",
   "execution_count": 19,
   "metadata": {},
   "outputs": [],
   "source": [
    "d = data.replace('\\\\cellcolor{gray!50}', '')\\\n",
    ".replace('\\\\cellcolor{gray!15}', '')\\\n",
    ".replace('\\\\cellcolor{gray!25}', '')\\\n",
    ".replace('\\\\bf', ' ')\\\n",
    ".replace('\\\\dots', '...')\\\n",
    ".replace('\\\\hline', '')\\\n",
    ".replace('\\t', ' ').replace('\\\\ ', ' \\n ').replace('&', ' \\t ')\n"
   ]
  },
  {
   "cell_type": "code",
   "execution_count": 20,
   "metadata": {},
   "outputs": [],
   "source": [
    "with open('backlog.csv', 'w') as f:\n",
    "    f.writelines(d.encode('utf-8').decode())"
   ]
  },
  {
   "cell_type": "markdown",
   "metadata": {},
   "source": [
    "Nous sauvegardons le fichier csv en tableur excel."
   ]
  },
  {
   "cell_type": "code",
   "execution_count": 21,
   "metadata": {},
   "outputs": [],
   "source": [
    "pd.read_csv('backlog.csv', sep='\\t').to_excel('backlog.xlsx')"
   ]
  },
  {
   "cell_type": "code",
   "execution_count": 22,
   "metadata": {},
   "outputs": [
    {
     "name": "stdout",
     "output_type": "stream",
     "text": [
      "    Conserver le mot de passe haché   \n"
     ]
    }
   ],
   "source": [
    "from openpyxl import load_workbook\n",
    "wb_backlog = load_workbook(filename = 'backlog.xlsx')\n",
    "ws_backlog = wb_backlog['Sheet1']\n",
    "print(ws_backlog['B3'].value)"
   ]
  },
  {
   "cell_type": "code",
   "execution_count": 23,
   "metadata": {},
   "outputs": [],
   "source": [
    "ws_backlog.delete_cols(1, 1)"
   ]
  },
  {
   "cell_type": "code",
   "execution_count": 24,
   "metadata": {},
   "outputs": [],
   "source": [
    "for cell in ws_backlog['A1:F1']:\n",
    "    for x in range(len(cell)):\n",
    "        cell[x].fill = blackFill\n",
    "        cell[x].font = Font(color=\"FFFFFF\", bold=True) \n",
    "n = 2\n",
    "for cell1 in ws_backlog['A2:A11']:\n",
    "    text = str(cell1[0].value).rstrip().lstrip()\n",
    "    if n % 2 != 0:\n",
    "        for cell in ws_backlog['A' + str(n) + ':F' + str(n)]:\n",
    "            for x in range(len(cell)):\n",
    "                cell[x].fill = grayLightFill\n",
    "    n += 1"
   ]
  },
  {
   "cell_type": "code",
   "execution_count": 25,
   "metadata": {},
   "outputs": [],
   "source": [
    "ws_backlog.title = \"User_stories\"\n",
    "\n",
    "wb_backlog.save(filename = 'dest_backlog.xlsx')"
   ]
  },
  {
   "cell_type": "code",
   "execution_count": 26,
   "metadata": {},
   "outputs": [],
   "source": [
    "xl1 = load_workbook('dest_functional_perimeter.xlsx')\n",
    "# sheet you want to copy\n",
    "s = load_workbook('dest_backlog.xlsx').active\n",
    "s._parent = xl1\n",
    "xl1._add_sheet(s)\n",
    "xl1.save('backlog.xlsx')"
   ]
  },
  {
   "cell_type": "markdown",
   "metadata": {},
   "source": [
    "Nous obtenons un fichier contenant 2 onglets : le backlog et le périmètre fonctionnel."
   ]
  },
  {
   "cell_type": "code",
   "execution_count": null,
   "metadata": {},
   "outputs": [],
   "source": []
  },
  {
   "cell_type": "markdown",
   "metadata": {},
   "source": [
    "# Color Format for Plan d’action contre les risques\n",
    "Nous répétons l’opération pour le tableau suivant."
   ]
  },
  {
   "cell_type": "code",
   "execution_count": 27,
   "metadata": {},
   "outputs": [],
   "source": [
    "data = group[2]\n",
    "data = re.findall(r'\\\\hline.*\\\\hline', data)[0]"
   ]
  },
  {
   "cell_type": "code",
   "execution_count": 28,
   "metadata": {},
   "outputs": [],
   "source": [
    "d = data.replace('\\\\cellcolor{gray!50}', '')\\\n",
    ".replace('\\\\cellcolor{gray!15}', '')\\\n",
    ".replace('\\\\cellcolor{gray!25}', '')\\\n",
    ".replace('\\\\cellcolor{red!75}', '')\\\n",
    ".replace('\\\\cellcolor{red!50}', '')\\\n",
    ".replace('\\\\cellcolor{yellow!50}', '')\\\n",
    ".replace('\\\\cellcolor{green!50}', '')\\\n",
    ".replace('\\\\cellcolor{yellow!75}', '')\\\n",
    ".replace(\"\\\\parbox{1.5cm}{\", \" \")\\\n",
    ".replace(\"}\", \" \")\\\n",
    ".replace('\\\\bf', ' ')\\\n",
    ".replace('\\\\dots', '...')\\\n",
    ".replace('\\\\hline', '')\\\n",
    ".replace('\\t', ' ').replace('\\\\ ', ' \\n ').replace('&', ' \\t ')"
   ]
  },
  {
   "cell_type": "code",
   "execution_count": 29,
   "metadata": {},
   "outputs": [],
   "source": [
    "with open('risk_prevention.csv', 'w') as f:\n",
    "    f.writelines(d.encode('utf-8').decode())"
   ]
  },
  {
   "cell_type": "code",
   "execution_count": null,
   "metadata": {},
   "outputs": [],
   "source": []
  },
  {
   "cell_type": "code",
   "execution_count": 30,
   "metadata": {},
   "outputs": [],
   "source": [
    "pd.read_csv('risk_prevention.csv', sep='\\t').to_excel('risk_prevention.xlsx')"
   ]
  },
  {
   "cell_type": "code",
   "execution_count": 31,
   "metadata": {},
   "outputs": [
    {
     "name": "stdout",
     "output_type": "stream",
     "text": [
      "    Codeur   \n"
     ]
    }
   ],
   "source": [
    "from openpyxl import load_workbook\n",
    "wb_backlog = load_workbook(filename = 'risk_prevention.xlsx')\n",
    "ws_backlog = wb_backlog['Sheet1']\n",
    "print(ws_backlog['B3'].value)"
   ]
  },
  {
   "cell_type": "code",
   "execution_count": 32,
   "metadata": {},
   "outputs": [],
   "source": [
    "greenLightFill = PatternFill(start_color='80ff80',\n",
    "                   end_color='80ff80',\n",
    "                   fill_type='solid')\n",
    "yellowFill = PatternFill(start_color='fff980',\n",
    "                   end_color='fff980',\n",
    "                   fill_type='solid')\n",
    "redLightFill = PatternFill(start_color='ff8080',\n",
    "                   end_color='ff8080',\n",
    "                   fill_type='solid')\n",
    "redDarkFill = PatternFill(start_color='ff4040',\n",
    "                   end_color='ff4040',\n",
    "                   fill_type='solid')"
   ]
  },
  {
   "cell_type": "code",
   "execution_count": 33,
   "metadata": {},
   "outputs": [],
   "source": [
    "ws_backlog.delete_cols(1, 1)"
   ]
  },
  {
   "cell_type": "code",
   "execution_count": 34,
   "metadata": {},
   "outputs": [],
   "source": [
    "for l in ['F', 'K']:\n",
    "    for cell in ws_backlog[ l + '2:' + l + '13']:\n",
    "        text = str(cell[0].value).rstrip().lstrip()\n",
    "        for x in range(len(cell)):\n",
    "            if float(text) <= 5. :\n",
    "                cell[x].fill = greenLightFill\n",
    "            elif (float(text) > 5.) & (float(text) <= 10.) :\n",
    "                cell[x].fill = yellowFill\n",
    "            elif (float(text) > 10.) & (float(text) <= 15.) :\n",
    "                cell[x].fill = redLightFill\n",
    "            elif float(text) > 15. :\n",
    "                cell[x].fill = redDarkFill"
   ]
  },
  {
   "cell_type": "code",
   "execution_count": 35,
   "metadata": {},
   "outputs": [],
   "source": [
    "ws_backlog.title = \"Risk_prevention\"\n",
    "wb_backlog.save(filename = 'risk_prevention.xlsx')"
   ]
  },
  {
   "cell_type": "code",
   "execution_count": null,
   "metadata": {},
   "outputs": [],
   "source": []
  }
 ],
 "metadata": {
  "kernelspec": {
   "display_name": "Python3",
   "language": "python",
   "name": "python3"
  },
  "language_info": {
   "codemirror_mode": {
    "name": "ipython",
    "version": 3
   },
   "file_extension": ".py",
   "mimetype": "text/x-python",
   "name": "python",
   "nbconvert_exporter": "python",
   "pygments_lexer": "ipython3",
   "version": "3.8.10"
  }
 },
 "nbformat": 4,
 "nbformat_minor": 5
}
